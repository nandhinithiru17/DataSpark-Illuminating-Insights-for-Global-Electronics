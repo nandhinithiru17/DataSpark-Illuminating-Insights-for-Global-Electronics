{
 "cells": [
  {
   "cell_type": "code",
   "execution_count": 2,
   "metadata": {},
   "outputs": [],
   "source": [
    "#import dataset\n",
    "import pandas as pd\n",
    "import os\n",
    "customers_df = pd.read_csv(r\"C:\\Users\\THIRU\\OneDrive\\Desktop\\data_illuminate\\customers.csv\",encoding='latin1')"
   ]
  },
  {
   "cell_type": "code",
   "execution_count": 3,
   "metadata": {},
   "outputs": [
    {
     "data": {
      "text/html": [
       "<div>\n",
       "<style scoped>\n",
       "    .dataframe tbody tr th:only-of-type {\n",
       "        vertical-align: middle;\n",
       "    }\n",
       "\n",
       "    .dataframe tbody tr th {\n",
       "        vertical-align: top;\n",
       "    }\n",
       "\n",
       "    .dataframe thead th {\n",
       "        text-align: right;\n",
       "    }\n",
       "</style>\n",
       "<table border=\"1\" class=\"dataframe\">\n",
       "  <thead>\n",
       "    <tr style=\"text-align: right;\">\n",
       "      <th></th>\n",
       "      <th>CustomerKey</th>\n",
       "      <th>Gender</th>\n",
       "      <th>Name</th>\n",
       "      <th>City</th>\n",
       "      <th>State Code</th>\n",
       "      <th>State</th>\n",
       "      <th>Zip Code</th>\n",
       "      <th>Country</th>\n",
       "      <th>Continent</th>\n",
       "      <th>Birthday</th>\n",
       "    </tr>\n",
       "  </thead>\n",
       "  <tbody>\n",
       "    <tr>\n",
       "      <th>0</th>\n",
       "      <td>301</td>\n",
       "      <td>Female</td>\n",
       "      <td>Lilly Harding</td>\n",
       "      <td>WANDEARAH EAST</td>\n",
       "      <td>SA</td>\n",
       "      <td>South Australia</td>\n",
       "      <td>5523</td>\n",
       "      <td>Australia</td>\n",
       "      <td>Australia</td>\n",
       "      <td>7/3/1939</td>\n",
       "    </tr>\n",
       "    <tr>\n",
       "      <th>1</th>\n",
       "      <td>325</td>\n",
       "      <td>Female</td>\n",
       "      <td>Madison Hull</td>\n",
       "      <td>MOUNT BUDD</td>\n",
       "      <td>WA</td>\n",
       "      <td>Western Australia</td>\n",
       "      <td>6522</td>\n",
       "      <td>Australia</td>\n",
       "      <td>Australia</td>\n",
       "      <td>9/27/1979</td>\n",
       "    </tr>\n",
       "    <tr>\n",
       "      <th>2</th>\n",
       "      <td>554</td>\n",
       "      <td>Female</td>\n",
       "      <td>Claire Ferres</td>\n",
       "      <td>WINJALLOK</td>\n",
       "      <td>VIC</td>\n",
       "      <td>Victoria</td>\n",
       "      <td>3380</td>\n",
       "      <td>Australia</td>\n",
       "      <td>Australia</td>\n",
       "      <td>5/26/1947</td>\n",
       "    </tr>\n",
       "    <tr>\n",
       "      <th>3</th>\n",
       "      <td>786</td>\n",
       "      <td>Male</td>\n",
       "      <td>Jai Poltpalingada</td>\n",
       "      <td>MIDDLE RIVER</td>\n",
       "      <td>SA</td>\n",
       "      <td>South Australia</td>\n",
       "      <td>5223</td>\n",
       "      <td>Australia</td>\n",
       "      <td>Australia</td>\n",
       "      <td>9/17/1957</td>\n",
       "    </tr>\n",
       "    <tr>\n",
       "      <th>4</th>\n",
       "      <td>1042</td>\n",
       "      <td>Male</td>\n",
       "      <td>Aidan Pankhurst</td>\n",
       "      <td>TAWONGA SOUTH</td>\n",
       "      <td>VIC</td>\n",
       "      <td>Victoria</td>\n",
       "      <td>3698</td>\n",
       "      <td>Australia</td>\n",
       "      <td>Australia</td>\n",
       "      <td>11/19/1965</td>\n",
       "    </tr>\n",
       "  </tbody>\n",
       "</table>\n",
       "</div>"
      ],
      "text/plain": [
       "   CustomerKey  Gender               Name            City State Code  \\\n",
       "0          301  Female      Lilly Harding  WANDEARAH EAST         SA   \n",
       "1          325  Female       Madison Hull      MOUNT BUDD         WA   \n",
       "2          554  Female      Claire Ferres       WINJALLOK        VIC   \n",
       "3          786    Male  Jai Poltpalingada    MIDDLE RIVER         SA   \n",
       "4         1042    Male    Aidan Pankhurst   TAWONGA SOUTH        VIC   \n",
       "\n",
       "               State Zip Code    Country  Continent    Birthday  \n",
       "0    South Australia     5523  Australia  Australia    7/3/1939  \n",
       "1  Western Australia     6522  Australia  Australia   9/27/1979  \n",
       "2           Victoria     3380  Australia  Australia   5/26/1947  \n",
       "3    South Australia     5223  Australia  Australia   9/17/1957  \n",
       "4           Victoria     3698  Australia  Australia  11/19/1965  "
      ]
     },
     "execution_count": 3,
     "metadata": {},
     "output_type": "execute_result"
    }
   ],
   "source": [
    "customers_df.head()"
   ]
  },
  {
   "cell_type": "markdown",
   "metadata": {},
   "source": [
    "standardize strings"
   ]
  },
  {
   "cell_type": "code",
   "execution_count": 4,
   "metadata": {},
   "outputs": [],
   "source": [
    "customers_df['Gender'] = customers_df['Gender'].str.strip().str.capitalize()\n",
    "customers_df['Name'] = customers_df['Name'].str.strip().str.title()\n",
    "customers_df['City'] = customers_df['City'].str.strip().str.title()\n",
    "customers_df['State'] = customers_df['State'].str.strip().str.title()\n",
    "customers_df['State Code'] = customers_df['State Code'].str.strip().str.upper()\n",
    "customers_df['Country'] = customers_df['Country'].str.strip().str.title()\n",
    "customers_df['Continent'] = customers_df['Continent'].str.strip().str.title()"
   ]
  },
  {
   "cell_type": "markdown",
   "metadata": {},
   "source": [
    "check for null values"
   ]
  },
  {
   "cell_type": "code",
   "execution_count": 5,
   "metadata": {},
   "outputs": [
    {
     "data": {
      "text/plain": [
       "CustomerKey     0\n",
       "Gender          0\n",
       "Name            0\n",
       "City            0\n",
       "State Code     10\n",
       "State           0\n",
       "Zip Code        0\n",
       "Country         0\n",
       "Continent       0\n",
       "Birthday        0\n",
       "dtype: int64"
      ]
     },
     "execution_count": 5,
     "metadata": {},
     "output_type": "execute_result"
    }
   ],
   "source": [
    "customers_df.isnull().sum()"
   ]
  },
  {
   "cell_type": "code",
   "execution_count": 6,
   "metadata": {},
   "outputs": [
    {
     "data": {
      "text/html": [
       "<div>\n",
       "<style scoped>\n",
       "    .dataframe tbody tr th:only-of-type {\n",
       "        vertical-align: middle;\n",
       "    }\n",
       "\n",
       "    .dataframe tbody tr th {\n",
       "        vertical-align: top;\n",
       "    }\n",
       "\n",
       "    .dataframe thead th {\n",
       "        text-align: right;\n",
       "    }\n",
       "</style>\n",
       "<table border=\"1\" class=\"dataframe\">\n",
       "  <thead>\n",
       "    <tr style=\"text-align: right;\">\n",
       "      <th></th>\n",
       "      <th>CustomerKey</th>\n",
       "      <th>Gender</th>\n",
       "      <th>Name</th>\n",
       "      <th>City</th>\n",
       "      <th>State Code</th>\n",
       "      <th>State</th>\n",
       "      <th>Zip Code</th>\n",
       "      <th>Country</th>\n",
       "      <th>Continent</th>\n",
       "      <th>Birthday</th>\n",
       "    </tr>\n",
       "  </thead>\n",
       "  <tbody>\n",
       "    <tr>\n",
       "      <th>5304</th>\n",
       "      <td>729681</td>\n",
       "      <td>Female</td>\n",
       "      <td>Rossana Padovesi</td>\n",
       "      <td>Polvica</td>\n",
       "      <td>NaN</td>\n",
       "      <td>Napoli</td>\n",
       "      <td>80035</td>\n",
       "      <td>Italy</td>\n",
       "      <td>Europe</td>\n",
       "      <td>4/18/1981</td>\n",
       "    </tr>\n",
       "    <tr>\n",
       "      <th>5316</th>\n",
       "      <td>732289</td>\n",
       "      <td>Male</td>\n",
       "      <td>Indro Piccio</td>\n",
       "      <td>Varcaturo</td>\n",
       "      <td>NaN</td>\n",
       "      <td>Napoli</td>\n",
       "      <td>80014</td>\n",
       "      <td>Italy</td>\n",
       "      <td>Europe</td>\n",
       "      <td>2/24/1949</td>\n",
       "    </tr>\n",
       "    <tr>\n",
       "      <th>5372</th>\n",
       "      <td>742042</td>\n",
       "      <td>Male</td>\n",
       "      <td>Amaranto Loggia</td>\n",
       "      <td>Casaferro</td>\n",
       "      <td>NaN</td>\n",
       "      <td>Napoli</td>\n",
       "      <td>80034</td>\n",
       "      <td>Italy</td>\n",
       "      <td>Europe</td>\n",
       "      <td>3/14/1936</td>\n",
       "    </tr>\n",
       "    <tr>\n",
       "      <th>5377</th>\n",
       "      <td>742886</td>\n",
       "      <td>Female</td>\n",
       "      <td>Edmonda Capon</td>\n",
       "      <td>Terzigno</td>\n",
       "      <td>NaN</td>\n",
       "      <td>Napoli</td>\n",
       "      <td>80040</td>\n",
       "      <td>Italy</td>\n",
       "      <td>Europe</td>\n",
       "      <td>8/6/1963</td>\n",
       "    </tr>\n",
       "    <tr>\n",
       "      <th>5378</th>\n",
       "      <td>743343</td>\n",
       "      <td>Female</td>\n",
       "      <td>Ambra Sagese</td>\n",
       "      <td>Pomigliano D'Arco</td>\n",
       "      <td>NaN</td>\n",
       "      <td>Napoli</td>\n",
       "      <td>80038</td>\n",
       "      <td>Italy</td>\n",
       "      <td>Europe</td>\n",
       "      <td>1/5/1961</td>\n",
       "    </tr>\n",
       "    <tr>\n",
       "      <th>5485</th>\n",
       "      <td>759705</td>\n",
       "      <td>Male</td>\n",
       "      <td>Callisto Lo Duca</td>\n",
       "      <td>Casilli</td>\n",
       "      <td>NaN</td>\n",
       "      <td>Napoli</td>\n",
       "      <td>80047</td>\n",
       "      <td>Italy</td>\n",
       "      <td>Europe</td>\n",
       "      <td>8/28/1976</td>\n",
       "    </tr>\n",
       "    <tr>\n",
       "      <th>5525</th>\n",
       "      <td>765589</td>\n",
       "      <td>Male</td>\n",
       "      <td>Michelino Lucchesi</td>\n",
       "      <td>Pompei Scavi</td>\n",
       "      <td>NaN</td>\n",
       "      <td>Napoli</td>\n",
       "      <td>80045</td>\n",
       "      <td>Italy</td>\n",
       "      <td>Europe</td>\n",
       "      <td>11/13/1947</td>\n",
       "    </tr>\n",
       "    <tr>\n",
       "      <th>5531</th>\n",
       "      <td>766410</td>\n",
       "      <td>Male</td>\n",
       "      <td>Adelmio Beneventi</td>\n",
       "      <td>Licola</td>\n",
       "      <td>NaN</td>\n",
       "      <td>Napoli</td>\n",
       "      <td>80078</td>\n",
       "      <td>Italy</td>\n",
       "      <td>Europe</td>\n",
       "      <td>1/13/1940</td>\n",
       "    </tr>\n",
       "    <tr>\n",
       "      <th>5631</th>\n",
       "      <td>781667</td>\n",
       "      <td>Female</td>\n",
       "      <td>Ilda Manna</td>\n",
       "      <td>Napoli</td>\n",
       "      <td>NaN</td>\n",
       "      <td>Napoli</td>\n",
       "      <td>80134</td>\n",
       "      <td>Italy</td>\n",
       "      <td>Europe</td>\n",
       "      <td>5/8/1977</td>\n",
       "    </tr>\n",
       "    <tr>\n",
       "      <th>5695</th>\n",
       "      <td>789177</td>\n",
       "      <td>Male</td>\n",
       "      <td>Calogero Folliero</td>\n",
       "      <td>Mariglianella</td>\n",
       "      <td>NaN</td>\n",
       "      <td>Napoli</td>\n",
       "      <td>80030</td>\n",
       "      <td>Italy</td>\n",
       "      <td>Europe</td>\n",
       "      <td>3/3/2000</td>\n",
       "    </tr>\n",
       "  </tbody>\n",
       "</table>\n",
       "</div>"
      ],
      "text/plain": [
       "      CustomerKey  Gender                Name               City State Code  \\\n",
       "5304       729681  Female    Rossana Padovesi            Polvica        NaN   \n",
       "5316       732289    Male        Indro Piccio          Varcaturo        NaN   \n",
       "5372       742042    Male     Amaranto Loggia          Casaferro        NaN   \n",
       "5377       742886  Female       Edmonda Capon           Terzigno        NaN   \n",
       "5378       743343  Female        Ambra Sagese  Pomigliano D'Arco        NaN   \n",
       "5485       759705    Male    Callisto Lo Duca            Casilli        NaN   \n",
       "5525       765589    Male  Michelino Lucchesi       Pompei Scavi        NaN   \n",
       "5531       766410    Male   Adelmio Beneventi             Licola        NaN   \n",
       "5631       781667  Female          Ilda Manna             Napoli        NaN   \n",
       "5695       789177    Male   Calogero Folliero      Mariglianella        NaN   \n",
       "\n",
       "       State Zip Code Country Continent    Birthday  \n",
       "5304  Napoli    80035   Italy    Europe   4/18/1981  \n",
       "5316  Napoli    80014   Italy    Europe   2/24/1949  \n",
       "5372  Napoli    80034   Italy    Europe   3/14/1936  \n",
       "5377  Napoli    80040   Italy    Europe    8/6/1963  \n",
       "5378  Napoli    80038   Italy    Europe    1/5/1961  \n",
       "5485  Napoli    80047   Italy    Europe   8/28/1976  \n",
       "5525  Napoli    80045   Italy    Europe  11/13/1947  \n",
       "5531  Napoli    80078   Italy    Europe   1/13/1940  \n",
       "5631  Napoli    80134   Italy    Europe    5/8/1977  \n",
       "5695  Napoli    80030   Italy    Europe    3/3/2000  "
      ]
     },
     "execution_count": 6,
     "metadata": {},
     "output_type": "execute_result"
    }
   ],
   "source": [
    "customers_df[customers_df['State Code'].isnull()]"
   ]
  },
  {
   "cell_type": "markdown",
   "metadata": {},
   "source": [
    "fill null values of state code with corresponding country values"
   ]
  },
  {
   "cell_type": "code",
   "execution_count": 7,
   "metadata": {},
   "outputs": [],
   "source": [
    "customers_df.loc[(customers_df['Country']=='Italy') & (customers_df['State Code'].isnull()),'State Code'] = 'IT'"
   ]
  },
  {
   "cell_type": "markdown",
   "metadata": {},
   "source": [
    "Convert Birthday column to datetime format"
   ]
  },
  {
   "cell_type": "code",
   "execution_count": 8,
   "metadata": {},
   "outputs": [],
   "source": [
    "customers_df['Birthday'] = pd.to_datetime(customers_df['Birthday'],format='%m/%d/%Y')"
   ]
  },
  {
   "cell_type": "code",
   "execution_count": 9,
   "metadata": {},
   "outputs": [
    {
     "name": "stdout",
     "output_type": "stream",
     "text": [
      "<class 'pandas.core.frame.DataFrame'>\n",
      "RangeIndex: 15266 entries, 0 to 15265\n",
      "Data columns (total 10 columns):\n",
      " #   Column       Non-Null Count  Dtype         \n",
      "---  ------       --------------  -----         \n",
      " 0   CustomerKey  15266 non-null  int64         \n",
      " 1   Gender       15266 non-null  object        \n",
      " 2   Name         15266 non-null  object        \n",
      " 3   City         15266 non-null  object        \n",
      " 4   State Code   15266 non-null  object        \n",
      " 5   State        15266 non-null  object        \n",
      " 6   Zip Code     15266 non-null  object        \n",
      " 7   Country      15266 non-null  object        \n",
      " 8   Continent    15266 non-null  object        \n",
      " 9   Birthday     15266 non-null  datetime64[ns]\n",
      "dtypes: datetime64[ns](1), int64(1), object(8)\n",
      "memory usage: 1.2+ MB\n"
     ]
    }
   ],
   "source": [
    "customers_df.info()"
   ]
  },
  {
   "cell_type": "markdown",
   "metadata": {},
   "source": [
    "Check for duplicate records"
   ]
  },
  {
   "cell_type": "code",
   "execution_count": 10,
   "metadata": {},
   "outputs": [
    {
     "data": {
      "text/plain": [
       "np.int64(0)"
      ]
     },
     "execution_count": 10,
     "metadata": {},
     "output_type": "execute_result"
    }
   ],
   "source": [
    "customers_df.duplicated().sum()"
   ]
  },
  {
   "cell_type": "markdown",
   "metadata": {},
   "source": [
    "Rename columns"
   ]
  },
  {
   "cell_type": "code",
   "execution_count": 11,
   "metadata": {},
   "outputs": [
    {
     "data": {
      "text/plain": [
       "Index(['CustomerKey', 'Gender', 'Name', 'City', 'State Code', 'State',\n",
       "       'Zip Code', 'Country', 'Continent', 'Birthday'],\n",
       "      dtype='object')"
      ]
     },
     "execution_count": 11,
     "metadata": {},
     "output_type": "execute_result"
    }
   ],
   "source": [
    "customers_df.columns"
   ]
  },
  {
   "cell_type": "code",
   "execution_count": 12,
   "metadata": {},
   "outputs": [],
   "source": [
    "customer_df = customers_df.rename(columns={\n",
    "    'CustomerKey': 'customer_key',\n",
    "    'Gender': 'gender',\n",
    "    'City': 'city',\n",
    "    'State Code': 'state_code',\n",
    "    'State': 'state',\n",
    "    'Zip Code': 'zip_code',\n",
    "    'Country': 'country',\n",
    "    'Continent': 'continent',\n",
    "    'Birthday': 'birthday'\n",
    "})\n"
   ]
  },
  {
   "cell_type": "markdown",
   "metadata": {},
   "source": [
    "Export cleaned dataset"
   ]
  },
  {
   "cell_type": "code",
   "execution_count": 77,
   "metadata": {},
   "outputs": [
    {
     "name": "stdout",
     "output_type": "stream",
     "text": [
      "File saved successfully.\n"
     ]
    }
   ],
   "source": [
    "# Define the directory and file path\n",
    "directory = 'cleaned_dataset'\n",
    "file_path = os.path.join(directory, 'products.csv')\n",
    "\n",
    "# Create the directory if it doesn't exist\n",
    "if not os.path.exists(directory):\n",
    "    os.makedirs(directory)\n",
    "\n",
    "# Save the DataFrame to the specified file path\n",
    "customers_df.to_csv(file_path, index=False)\n",
    "print(\"File saved successfully.\")"
   ]
  },
  {
   "cell_type": "markdown",
   "metadata": {},
   "source": [
    "check dataframe"
   ]
  },
  {
   "cell_type": "code",
   "execution_count": 15,
   "metadata": {},
   "outputs": [
    {
     "data": {
      "text/html": [
       "<div>\n",
       "<style scoped>\n",
       "    .dataframe tbody tr th:only-of-type {\n",
       "        vertical-align: middle;\n",
       "    }\n",
       "\n",
       "    .dataframe tbody tr th {\n",
       "        vertical-align: top;\n",
       "    }\n",
       "\n",
       "    .dataframe thead th {\n",
       "        text-align: right;\n",
       "    }\n",
       "</style>\n",
       "<table border=\"1\" class=\"dataframe\">\n",
       "  <thead>\n",
       "    <tr style=\"text-align: right;\">\n",
       "      <th></th>\n",
       "      <th>CustomerKey</th>\n",
       "      <th>Gender</th>\n",
       "      <th>Name</th>\n",
       "      <th>City</th>\n",
       "      <th>State Code</th>\n",
       "      <th>State</th>\n",
       "      <th>Zip Code</th>\n",
       "      <th>Country</th>\n",
       "      <th>Continent</th>\n",
       "      <th>Birthday</th>\n",
       "    </tr>\n",
       "  </thead>\n",
       "  <tbody>\n",
       "    <tr>\n",
       "      <th>0</th>\n",
       "      <td>301</td>\n",
       "      <td>Female</td>\n",
       "      <td>Lilly Harding</td>\n",
       "      <td>Wandearah East</td>\n",
       "      <td>SA</td>\n",
       "      <td>South Australia</td>\n",
       "      <td>5523</td>\n",
       "      <td>Australia</td>\n",
       "      <td>Australia</td>\n",
       "      <td>1939-07-03</td>\n",
       "    </tr>\n",
       "    <tr>\n",
       "      <th>1</th>\n",
       "      <td>325</td>\n",
       "      <td>Female</td>\n",
       "      <td>Madison Hull</td>\n",
       "      <td>Mount Budd</td>\n",
       "      <td>WA</td>\n",
       "      <td>Western Australia</td>\n",
       "      <td>6522</td>\n",
       "      <td>Australia</td>\n",
       "      <td>Australia</td>\n",
       "      <td>1979-09-27</td>\n",
       "    </tr>\n",
       "    <tr>\n",
       "      <th>2</th>\n",
       "      <td>554</td>\n",
       "      <td>Female</td>\n",
       "      <td>Claire Ferres</td>\n",
       "      <td>Winjallok</td>\n",
       "      <td>VIC</td>\n",
       "      <td>Victoria</td>\n",
       "      <td>3380</td>\n",
       "      <td>Australia</td>\n",
       "      <td>Australia</td>\n",
       "      <td>1947-05-26</td>\n",
       "    </tr>\n",
       "    <tr>\n",
       "      <th>3</th>\n",
       "      <td>786</td>\n",
       "      <td>Male</td>\n",
       "      <td>Jai Poltpalingada</td>\n",
       "      <td>Middle River</td>\n",
       "      <td>SA</td>\n",
       "      <td>South Australia</td>\n",
       "      <td>5223</td>\n",
       "      <td>Australia</td>\n",
       "      <td>Australia</td>\n",
       "      <td>1957-09-17</td>\n",
       "    </tr>\n",
       "    <tr>\n",
       "      <th>4</th>\n",
       "      <td>1042</td>\n",
       "      <td>Male</td>\n",
       "      <td>Aidan Pankhurst</td>\n",
       "      <td>Tawonga South</td>\n",
       "      <td>VIC</td>\n",
       "      <td>Victoria</td>\n",
       "      <td>3698</td>\n",
       "      <td>Australia</td>\n",
       "      <td>Australia</td>\n",
       "      <td>1965-11-19</td>\n",
       "    </tr>\n",
       "    <tr>\n",
       "      <th>...</th>\n",
       "      <td>...</td>\n",
       "      <td>...</td>\n",
       "      <td>...</td>\n",
       "      <td>...</td>\n",
       "      <td>...</td>\n",
       "      <td>...</td>\n",
       "      <td>...</td>\n",
       "      <td>...</td>\n",
       "      <td>...</td>\n",
       "      <td>...</td>\n",
       "    </tr>\n",
       "    <tr>\n",
       "      <th>15261</th>\n",
       "      <td>2099600</td>\n",
       "      <td>Female</td>\n",
       "      <td>Denisa DuKová</td>\n",
       "      <td>Houston</td>\n",
       "      <td>TX</td>\n",
       "      <td>Texas</td>\n",
       "      <td>77017</td>\n",
       "      <td>United States</td>\n",
       "      <td>North America</td>\n",
       "      <td>1936-03-25</td>\n",
       "    </tr>\n",
       "    <tr>\n",
       "      <th>15262</th>\n",
       "      <td>2099618</td>\n",
       "      <td>Male</td>\n",
       "      <td>Justin Solórzano</td>\n",
       "      <td>Mclean</td>\n",
       "      <td>VA</td>\n",
       "      <td>Virginia</td>\n",
       "      <td>22101</td>\n",
       "      <td>United States</td>\n",
       "      <td>North America</td>\n",
       "      <td>1992-02-16</td>\n",
       "    </tr>\n",
       "    <tr>\n",
       "      <th>15263</th>\n",
       "      <td>2099758</td>\n",
       "      <td>Male</td>\n",
       "      <td>Svend Petrussen</td>\n",
       "      <td>Wilmington</td>\n",
       "      <td>NC</td>\n",
       "      <td>North Carolina</td>\n",
       "      <td>28405</td>\n",
       "      <td>United States</td>\n",
       "      <td>North America</td>\n",
       "      <td>1937-11-09</td>\n",
       "    </tr>\n",
       "    <tr>\n",
       "      <th>15264</th>\n",
       "      <td>2099862</td>\n",
       "      <td>Female</td>\n",
       "      <td>Lorenza Rush</td>\n",
       "      <td>Riverside</td>\n",
       "      <td>CA</td>\n",
       "      <td>California</td>\n",
       "      <td>92501</td>\n",
       "      <td>United States</td>\n",
       "      <td>North America</td>\n",
       "      <td>1937-10-12</td>\n",
       "    </tr>\n",
       "    <tr>\n",
       "      <th>15265</th>\n",
       "      <td>2099937</td>\n",
       "      <td>Male</td>\n",
       "      <td>Zygmunt Kaminski</td>\n",
       "      <td>Bloomfield Township</td>\n",
       "      <td>MI</td>\n",
       "      <td>Michigan</td>\n",
       "      <td>48302</td>\n",
       "      <td>United States</td>\n",
       "      <td>North America</td>\n",
       "      <td>1965-08-18</td>\n",
       "    </tr>\n",
       "  </tbody>\n",
       "</table>\n",
       "<p>15266 rows × 10 columns</p>\n",
       "</div>"
      ],
      "text/plain": [
       "       CustomerKey  Gender               Name                 City State Code  \\\n",
       "0              301  Female      Lilly Harding       Wandearah East         SA   \n",
       "1              325  Female       Madison Hull           Mount Budd         WA   \n",
       "2              554  Female      Claire Ferres            Winjallok        VIC   \n",
       "3              786    Male  Jai Poltpalingada         Middle River         SA   \n",
       "4             1042    Male    Aidan Pankhurst        Tawonga South        VIC   \n",
       "...            ...     ...                ...                  ...        ...   \n",
       "15261      2099600  Female     Denisa DuKová              Houston         TX   \n",
       "15262      2099618    Male   Justin Solórzano               Mclean         VA   \n",
       "15263      2099758    Male    Svend Petrussen           Wilmington         NC   \n",
       "15264      2099862  Female       Lorenza Rush            Riverside         CA   \n",
       "15265      2099937    Male   Zygmunt Kaminski  Bloomfield Township         MI   \n",
       "\n",
       "                   State Zip Code        Country      Continent   Birthday  \n",
       "0        South Australia     5523      Australia      Australia 1939-07-03  \n",
       "1      Western Australia     6522      Australia      Australia 1979-09-27  \n",
       "2               Victoria     3380      Australia      Australia 1947-05-26  \n",
       "3        South Australia     5223      Australia      Australia 1957-09-17  \n",
       "4               Victoria     3698      Australia      Australia 1965-11-19  \n",
       "...                  ...      ...            ...            ...        ...  \n",
       "15261              Texas    77017  United States  North America 1936-03-25  \n",
       "15262           Virginia    22101  United States  North America 1992-02-16  \n",
       "15263     North Carolina    28405  United States  North America 1937-11-09  \n",
       "15264         California    92501  United States  North America 1937-10-12  \n",
       "15265           Michigan    48302  United States  North America 1965-08-18  \n",
       "\n",
       "[15266 rows x 10 columns]"
      ]
     },
     "execution_count": 15,
     "metadata": {},
     "output_type": "execute_result"
    }
   ],
   "source": [
    "customers_df"
   ]
  },
  {
   "cell_type": "markdown",
   "metadata": {},
   "source": [
    "# products"
   ]
  },
  {
   "cell_type": "code",
   "execution_count": 18,
   "metadata": {},
   "outputs": [],
   "source": [
    "products_df = pd.read_csv(r'C:\\Users\\THIRU\\OneDrive\\Desktop\\data_illuminate\\products.csv')"
   ]
  },
  {
   "cell_type": "code",
   "execution_count": 19,
   "metadata": {},
   "outputs": [
    {
     "data": {
      "text/html": [
       "<div>\n",
       "<style scoped>\n",
       "    .dataframe tbody tr th:only-of-type {\n",
       "        vertical-align: middle;\n",
       "    }\n",
       "\n",
       "    .dataframe tbody tr th {\n",
       "        vertical-align: top;\n",
       "    }\n",
       "\n",
       "    .dataframe thead th {\n",
       "        text-align: right;\n",
       "    }\n",
       "</style>\n",
       "<table border=\"1\" class=\"dataframe\">\n",
       "  <thead>\n",
       "    <tr style=\"text-align: right;\">\n",
       "      <th></th>\n",
       "      <th>ProductKey</th>\n",
       "      <th>Product Name</th>\n",
       "      <th>Brand</th>\n",
       "      <th>Color</th>\n",
       "      <th>Unit Cost USD</th>\n",
       "      <th>Unit Price USD</th>\n",
       "      <th>SubcategoryKey</th>\n",
       "      <th>Subcategory</th>\n",
       "      <th>CategoryKey</th>\n",
       "      <th>Category</th>\n",
       "    </tr>\n",
       "  </thead>\n",
       "  <tbody>\n",
       "    <tr>\n",
       "      <th>0</th>\n",
       "      <td>1</td>\n",
       "      <td>Contoso 512MB MP3 Player E51 Silver</td>\n",
       "      <td>Contoso</td>\n",
       "      <td>Silver</td>\n",
       "      <td>$6.62</td>\n",
       "      <td>$12.99</td>\n",
       "      <td>101</td>\n",
       "      <td>MP4&amp;MP3</td>\n",
       "      <td>1</td>\n",
       "      <td>Audio</td>\n",
       "    </tr>\n",
       "    <tr>\n",
       "      <th>1</th>\n",
       "      <td>2</td>\n",
       "      <td>Contoso 512MB MP3 Player E51 Blue</td>\n",
       "      <td>Contoso</td>\n",
       "      <td>Blue</td>\n",
       "      <td>$6.62</td>\n",
       "      <td>$12.99</td>\n",
       "      <td>101</td>\n",
       "      <td>MP4&amp;MP3</td>\n",
       "      <td>1</td>\n",
       "      <td>Audio</td>\n",
       "    </tr>\n",
       "    <tr>\n",
       "      <th>2</th>\n",
       "      <td>3</td>\n",
       "      <td>Contoso 1G MP3 Player E100 White</td>\n",
       "      <td>Contoso</td>\n",
       "      <td>White</td>\n",
       "      <td>$7.40</td>\n",
       "      <td>$14.52</td>\n",
       "      <td>101</td>\n",
       "      <td>MP4&amp;MP3</td>\n",
       "      <td>1</td>\n",
       "      <td>Audio</td>\n",
       "    </tr>\n",
       "    <tr>\n",
       "      <th>3</th>\n",
       "      <td>4</td>\n",
       "      <td>Contoso 2G MP3 Player E200 Silver</td>\n",
       "      <td>Contoso</td>\n",
       "      <td>Silver</td>\n",
       "      <td>$11.00</td>\n",
       "      <td>$21.57</td>\n",
       "      <td>101</td>\n",
       "      <td>MP4&amp;MP3</td>\n",
       "      <td>1</td>\n",
       "      <td>Audio</td>\n",
       "    </tr>\n",
       "    <tr>\n",
       "      <th>4</th>\n",
       "      <td>5</td>\n",
       "      <td>Contoso 2G MP3 Player E200 Red</td>\n",
       "      <td>Contoso</td>\n",
       "      <td>Red</td>\n",
       "      <td>$11.00</td>\n",
       "      <td>$21.57</td>\n",
       "      <td>101</td>\n",
       "      <td>MP4&amp;MP3</td>\n",
       "      <td>1</td>\n",
       "      <td>Audio</td>\n",
       "    </tr>\n",
       "    <tr>\n",
       "      <th>...</th>\n",
       "      <td>...</td>\n",
       "      <td>...</td>\n",
       "      <td>...</td>\n",
       "      <td>...</td>\n",
       "      <td>...</td>\n",
       "      <td>...</td>\n",
       "      <td>...</td>\n",
       "      <td>...</td>\n",
       "      <td>...</td>\n",
       "      <td>...</td>\n",
       "    </tr>\n",
       "    <tr>\n",
       "      <th>2512</th>\n",
       "      <td>2513</td>\n",
       "      <td>Contoso Bluetooth Active Headphones L15 Red</td>\n",
       "      <td>Contoso</td>\n",
       "      <td>Red</td>\n",
       "      <td>$43.07</td>\n",
       "      <td>$129.99</td>\n",
       "      <td>505</td>\n",
       "      <td>Cell phones Accessories</td>\n",
       "      <td>5</td>\n",
       "      <td>Cell phones</td>\n",
       "    </tr>\n",
       "    <tr>\n",
       "      <th>2513</th>\n",
       "      <td>2514</td>\n",
       "      <td>Contoso Bluetooth Active Headphones L15 White</td>\n",
       "      <td>Contoso</td>\n",
       "      <td>White</td>\n",
       "      <td>$43.07</td>\n",
       "      <td>$129.99</td>\n",
       "      <td>505</td>\n",
       "      <td>Cell phones Accessories</td>\n",
       "      <td>5</td>\n",
       "      <td>Cell phones</td>\n",
       "    </tr>\n",
       "    <tr>\n",
       "      <th>2514</th>\n",
       "      <td>2515</td>\n",
       "      <td>Contoso In-Line Coupler E180 White</td>\n",
       "      <td>Contoso</td>\n",
       "      <td>White</td>\n",
       "      <td>$1.71</td>\n",
       "      <td>$3.35</td>\n",
       "      <td>505</td>\n",
       "      <td>Cell phones Accessories</td>\n",
       "      <td>5</td>\n",
       "      <td>Cell phones</td>\n",
       "    </tr>\n",
       "    <tr>\n",
       "      <th>2515</th>\n",
       "      <td>2516</td>\n",
       "      <td>Contoso In-Line Coupler E180 Black</td>\n",
       "      <td>Contoso</td>\n",
       "      <td>Black</td>\n",
       "      <td>$1.71</td>\n",
       "      <td>$3.35</td>\n",
       "      <td>505</td>\n",
       "      <td>Cell phones Accessories</td>\n",
       "      <td>5</td>\n",
       "      <td>Cell phones</td>\n",
       "    </tr>\n",
       "    <tr>\n",
       "      <th>2516</th>\n",
       "      <td>2517</td>\n",
       "      <td>Contoso In-Line Coupler E180 Silver</td>\n",
       "      <td>Contoso</td>\n",
       "      <td>Silver</td>\n",
       "      <td>$1.71</td>\n",
       "      <td>$3.35</td>\n",
       "      <td>505</td>\n",
       "      <td>Cell phones Accessories</td>\n",
       "      <td>5</td>\n",
       "      <td>Cell phones</td>\n",
       "    </tr>\n",
       "  </tbody>\n",
       "</table>\n",
       "<p>2517 rows × 10 columns</p>\n",
       "</div>"
      ],
      "text/plain": [
       "      ProductKey                                   Product Name    Brand  \\\n",
       "0              1            Contoso 512MB MP3 Player E51 Silver  Contoso   \n",
       "1              2              Contoso 512MB MP3 Player E51 Blue  Contoso   \n",
       "2              3               Contoso 1G MP3 Player E100 White  Contoso   \n",
       "3              4              Contoso 2G MP3 Player E200 Silver  Contoso   \n",
       "4              5                 Contoso 2G MP3 Player E200 Red  Contoso   \n",
       "...          ...                                            ...      ...   \n",
       "2512        2513    Contoso Bluetooth Active Headphones L15 Red  Contoso   \n",
       "2513        2514  Contoso Bluetooth Active Headphones L15 White  Contoso   \n",
       "2514        2515             Contoso In-Line Coupler E180 White  Contoso   \n",
       "2515        2516             Contoso In-Line Coupler E180 Black  Contoso   \n",
       "2516        2517            Contoso In-Line Coupler E180 Silver  Contoso   \n",
       "\n",
       "       Color Unit Cost USD Unit Price USD  SubcategoryKey  \\\n",
       "0     Silver        $6.62         $12.99              101   \n",
       "1       Blue        $6.62         $12.99              101   \n",
       "2      White        $7.40         $14.52              101   \n",
       "3     Silver       $11.00         $21.57              101   \n",
       "4        Red       $11.00         $21.57              101   \n",
       "...      ...           ...            ...             ...   \n",
       "2512     Red       $43.07        $129.99              505   \n",
       "2513   White       $43.07        $129.99              505   \n",
       "2514   White        $1.71          $3.35              505   \n",
       "2515   Black        $1.71          $3.35              505   \n",
       "2516  Silver        $1.71          $3.35              505   \n",
       "\n",
       "                  Subcategory  CategoryKey     Category  \n",
       "0                     MP4&MP3            1        Audio  \n",
       "1                     MP4&MP3            1        Audio  \n",
       "2                     MP4&MP3            1        Audio  \n",
       "3                     MP4&MP3            1        Audio  \n",
       "4                     MP4&MP3            1        Audio  \n",
       "...                       ...          ...          ...  \n",
       "2512  Cell phones Accessories            5  Cell phones  \n",
       "2513  Cell phones Accessories            5  Cell phones  \n",
       "2514  Cell phones Accessories            5  Cell phones  \n",
       "2515  Cell phones Accessories            5  Cell phones  \n",
       "2516  Cell phones Accessories            5  Cell phones  \n",
       "\n",
       "[2517 rows x 10 columns]"
      ]
     },
     "execution_count": 19,
     "metadata": {},
     "output_type": "execute_result"
    }
   ],
   "source": [
    "products_df"
   ]
  },
  {
   "cell_type": "code",
   "execution_count": 20,
   "metadata": {},
   "outputs": [],
   "source": [
    "products_df['Product Name'] = products_df['Product Name'].str.strip()\n",
    "products_df['Brand'] = products_df['Brand'].str.strip()\n",
    "products_df['Color'] = products_df['Color'].str.strip()\n",
    "products_df['Subcategory'] = products_df['Subcategory'].str.strip()\n",
    "products_df['Category'] = products_df['Category'].str.strip()"
   ]
  },
  {
   "cell_type": "markdown",
   "metadata": {},
   "source": [
    "Check for null or missing values"
   ]
  },
  {
   "cell_type": "code",
   "execution_count": 21,
   "metadata": {},
   "outputs": [
    {
     "data": {
      "text/plain": [
       "ProductKey        0\n",
       "Product Name      0\n",
       "Brand             0\n",
       "Color             0\n",
       "Unit Cost USD     0\n",
       "Unit Price USD    0\n",
       "SubcategoryKey    0\n",
       "Subcategory       0\n",
       "CategoryKey       0\n",
       "Category          0\n",
       "dtype: int64"
      ]
     },
     "execution_count": 21,
     "metadata": {},
     "output_type": "execute_result"
    }
   ],
   "source": [
    "products_df.isna().sum()"
   ]
  },
  {
   "cell_type": "markdown",
   "metadata": {},
   "source": [
    "check for duplicate rows"
   ]
  },
  {
   "cell_type": "code",
   "execution_count": 22,
   "metadata": {},
   "outputs": [
    {
     "data": {
      "text/plain": [
       "np.int64(0)"
      ]
     },
     "execution_count": 22,
     "metadata": {},
     "output_type": "execute_result"
    }
   ],
   "source": [
    "products_df.duplicated().sum()"
   ]
  },
  {
   "cell_type": "markdown",
   "metadata": {},
   "source": [
    "check for datatypes"
   ]
  },
  {
   "cell_type": "code",
   "execution_count": 23,
   "metadata": {},
   "outputs": [
    {
     "data": {
      "text/plain": [
       "ProductKey         int64\n",
       "Product Name      object\n",
       "Brand             object\n",
       "Color             object\n",
       "Unit Cost USD     object\n",
       "Unit Price USD    object\n",
       "SubcategoryKey     int64\n",
       "Subcategory       object\n",
       "CategoryKey        int64\n",
       "Category          object\n",
       "dtype: object"
      ]
     },
     "execution_count": 23,
     "metadata": {},
     "output_type": "execute_result"
    }
   ],
   "source": [
    "products_df.dtypes"
   ]
  },
  {
   "cell_type": "markdown",
   "metadata": {},
   "source": [
    "Extract int values from price column and reassign it with float as dtype"
   ]
  },
  {
   "cell_type": "code",
   "execution_count": 24,
   "metadata": {},
   "outputs": [],
   "source": [
    "# First convert to float, then format\n",
    "products_df['Unit Cost USD'] = products_df['Unit Cost USD'].str.extract(r'(\\d+\\.\\d+|\\d+)')[0].astype(float).round(2)\n",
    "products_df['Unit Price USD'] = products_df['Unit Price USD'].str.extract(r'(\\d+\\.\\d+|\\d+)')[0].astype(float).round(2)"
   ]
  },
  {
   "cell_type": "code",
   "execution_count": 25,
   "metadata": {},
   "outputs": [
    {
     "name": "stdout",
     "output_type": "stream",
     "text": [
      "<class 'pandas.core.frame.DataFrame'>\n",
      "RangeIndex: 2517 entries, 0 to 2516\n",
      "Data columns (total 10 columns):\n",
      " #   Column          Non-Null Count  Dtype  \n",
      "---  ------          --------------  -----  \n",
      " 0   ProductKey      2517 non-null   int64  \n",
      " 1   Product Name    2517 non-null   object \n",
      " 2   Brand           2517 non-null   object \n",
      " 3   Color           2517 non-null   object \n",
      " 4   Unit Cost USD   2517 non-null   float64\n",
      " 5   Unit Price USD  2517 non-null   float64\n",
      " 6   SubcategoryKey  2517 non-null   int64  \n",
      " 7   Subcategory     2517 non-null   object \n",
      " 8   CategoryKey     2517 non-null   int64  \n",
      " 9   Category        2517 non-null   object \n",
      "dtypes: float64(2), int64(3), object(5)\n",
      "memory usage: 196.8+ KB\n"
     ]
    }
   ],
   "source": [
    "products_df.info()"
   ]
  },
  {
   "cell_type": "markdown",
   "metadata": {},
   "source": [
    "check stats"
   ]
  },
  {
   "cell_type": "code",
   "execution_count": 26,
   "metadata": {},
   "outputs": [
    {
     "data": {
      "text/html": [
       "<div>\n",
       "<style scoped>\n",
       "    .dataframe tbody tr th:only-of-type {\n",
       "        vertical-align: middle;\n",
       "    }\n",
       "\n",
       "    .dataframe tbody tr th {\n",
       "        vertical-align: top;\n",
       "    }\n",
       "\n",
       "    .dataframe thead th {\n",
       "        text-align: right;\n",
       "    }\n",
       "</style>\n",
       "<table border=\"1\" class=\"dataframe\">\n",
       "  <thead>\n",
       "    <tr style=\"text-align: right;\">\n",
       "      <th></th>\n",
       "      <th>ProductKey</th>\n",
       "      <th>Unit Cost USD</th>\n",
       "      <th>Unit Price USD</th>\n",
       "      <th>SubcategoryKey</th>\n",
       "      <th>CategoryKey</th>\n",
       "    </tr>\n",
       "  </thead>\n",
       "  <tbody>\n",
       "    <tr>\n",
       "      <th>count</th>\n",
       "      <td>2517.000000</td>\n",
       "      <td>2517.000000</td>\n",
       "      <td>2517.000000</td>\n",
       "      <td>2517.000000</td>\n",
       "      <td>2517.000000</td>\n",
       "    </tr>\n",
       "    <tr>\n",
       "      <th>mean</th>\n",
       "      <td>1259.000000</td>\n",
       "      <td>141.763993</td>\n",
       "      <td>235.676432</td>\n",
       "      <td>491.810091</td>\n",
       "      <td>4.878824</td>\n",
       "    </tr>\n",
       "    <tr>\n",
       "      <th>std</th>\n",
       "      <td>726.739637</td>\n",
       "      <td>171.594673</td>\n",
       "      <td>239.725973</td>\n",
       "      <td>229.887134</td>\n",
       "      <td>2.299170</td>\n",
       "    </tr>\n",
       "    <tr>\n",
       "      <th>min</th>\n",
       "      <td>1.000000</td>\n",
       "      <td>0.480000</td>\n",
       "      <td>0.950000</td>\n",
       "      <td>101.000000</td>\n",
       "      <td>1.000000</td>\n",
       "    </tr>\n",
       "    <tr>\n",
       "      <th>25%</th>\n",
       "      <td>630.000000</td>\n",
       "      <td>30.580000</td>\n",
       "      <td>39.990000</td>\n",
       "      <td>305.000000</td>\n",
       "      <td>3.000000</td>\n",
       "    </tr>\n",
       "    <tr>\n",
       "      <th>50%</th>\n",
       "      <td>1259.000000</td>\n",
       "      <td>86.140000</td>\n",
       "      <td>165.000000</td>\n",
       "      <td>406.000000</td>\n",
       "      <td>4.000000</td>\n",
       "    </tr>\n",
       "    <tr>\n",
       "      <th>75%</th>\n",
       "      <td>1888.000000</td>\n",
       "      <td>183.540000</td>\n",
       "      <td>326.000000</td>\n",
       "      <td>801.000000</td>\n",
       "      <td>8.000000</td>\n",
       "    </tr>\n",
       "    <tr>\n",
       "      <th>max</th>\n",
       "      <td>2517.000000</td>\n",
       "      <td>960.820000</td>\n",
       "      <td>999.900000</td>\n",
       "      <td>808.000000</td>\n",
       "      <td>8.000000</td>\n",
       "    </tr>\n",
       "  </tbody>\n",
       "</table>\n",
       "</div>"
      ],
      "text/plain": [
       "        ProductKey  Unit Cost USD  Unit Price USD  SubcategoryKey  CategoryKey\n",
       "count  2517.000000    2517.000000     2517.000000     2517.000000  2517.000000\n",
       "mean   1259.000000     141.763993      235.676432      491.810091     4.878824\n",
       "std     726.739637     171.594673      239.725973      229.887134     2.299170\n",
       "min       1.000000       0.480000        0.950000      101.000000     1.000000\n",
       "25%     630.000000      30.580000       39.990000      305.000000     3.000000\n",
       "50%    1259.000000      86.140000      165.000000      406.000000     4.000000\n",
       "75%    1888.000000     183.540000      326.000000      801.000000     8.000000\n",
       "max    2517.000000     960.820000      999.900000      808.000000     8.000000"
      ]
     },
     "execution_count": 26,
     "metadata": {},
     "output_type": "execute_result"
    }
   ],
   "source": [
    "products_df.describe()"
   ]
  },
  {
   "cell_type": "markdown",
   "metadata": {},
   "source": [
    "Rename columns"
   ]
  },
  {
   "cell_type": "code",
   "execution_count": 27,
   "metadata": {},
   "outputs": [
    {
     "data": {
      "text/plain": [
       "Index(['ProductKey', 'Product Name', 'Brand', 'Color', 'Unit Cost USD',\n",
       "       'Unit Price USD', 'SubcategoryKey', 'Subcategory', 'CategoryKey',\n",
       "       'Category'],\n",
       "      dtype='object')"
      ]
     },
     "execution_count": 27,
     "metadata": {},
     "output_type": "execute_result"
    }
   ],
   "source": [
    "products_df.columns"
   ]
  },
  {
   "cell_type": "code",
   "execution_count": 28,
   "metadata": {},
   "outputs": [],
   "source": [
    "products_df = products_df.rename(columns={\n",
    "    'ProductKey': 'product_key',\n",
    "    'Product Name': 'product_name',\n",
    "    'Brand': 'brand',\n",
    "    'Color': 'color',\n",
    "    'Unit Cost USD': 'unit_cost_usd',\n",
    "    'Unit Price USD': 'unit_price_usd',\n",
    "    'SubcategoryKey': 'sub_category_key',\n",
    "    'Subcategory': 'sub_category',\n",
    "    'CategoryKey': 'category_key',\n",
    "    'Category': 'category'\n",
    "    })"
   ]
  },
  {
   "cell_type": "markdown",
   "metadata": {},
   "source": [
    "Export cleaned Dataset"
   ]
  },
  {
   "cell_type": "code",
   "execution_count": 29,
   "metadata": {},
   "outputs": [
    {
     "name": "stdout",
     "output_type": "stream",
     "text": [
      "File saved successfully.\n"
     ]
    }
   ],
   "source": [
    "# Define the directory and file path\n",
    "directory = 'cleaned_dataset'\n",
    "file_path = os.path.join(directory, 'products.csv')\n",
    "\n",
    "# Create the directory if it doesn't exist\n",
    "if not os.path.exists(directory):\n",
    "    os.makedirs(directory)\n",
    "\n",
    "# Save the DataFrame to the specified file path\n",
    "products_df.to_csv(file_path, index=False)\n",
    "print(\"File saved successfully.\")"
   ]
  },
  {
   "cell_type": "markdown",
   "metadata": {},
   "source": [
    "check dataset"
   ]
  },
  {
   "cell_type": "code",
   "execution_count": 30,
   "metadata": {},
   "outputs": [
    {
     "data": {
      "text/html": [
       "<div>\n",
       "<style scoped>\n",
       "    .dataframe tbody tr th:only-of-type {\n",
       "        vertical-align: middle;\n",
       "    }\n",
       "\n",
       "    .dataframe tbody tr th {\n",
       "        vertical-align: top;\n",
       "    }\n",
       "\n",
       "    .dataframe thead th {\n",
       "        text-align: right;\n",
       "    }\n",
       "</style>\n",
       "<table border=\"1\" class=\"dataframe\">\n",
       "  <thead>\n",
       "    <tr style=\"text-align: right;\">\n",
       "      <th></th>\n",
       "      <th>product_key</th>\n",
       "      <th>product_name</th>\n",
       "      <th>brand</th>\n",
       "      <th>color</th>\n",
       "      <th>unit_cost_usd</th>\n",
       "      <th>unit_price_usd</th>\n",
       "      <th>sub_category_key</th>\n",
       "      <th>sub_category</th>\n",
       "      <th>category_key</th>\n",
       "      <th>category</th>\n",
       "    </tr>\n",
       "  </thead>\n",
       "  <tbody>\n",
       "    <tr>\n",
       "      <th>0</th>\n",
       "      <td>1</td>\n",
       "      <td>Contoso 512MB MP3 Player E51 Silver</td>\n",
       "      <td>Contoso</td>\n",
       "      <td>Silver</td>\n",
       "      <td>6.62</td>\n",
       "      <td>12.99</td>\n",
       "      <td>101</td>\n",
       "      <td>MP4&amp;MP3</td>\n",
       "      <td>1</td>\n",
       "      <td>Audio</td>\n",
       "    </tr>\n",
       "    <tr>\n",
       "      <th>1</th>\n",
       "      <td>2</td>\n",
       "      <td>Contoso 512MB MP3 Player E51 Blue</td>\n",
       "      <td>Contoso</td>\n",
       "      <td>Blue</td>\n",
       "      <td>6.62</td>\n",
       "      <td>12.99</td>\n",
       "      <td>101</td>\n",
       "      <td>MP4&amp;MP3</td>\n",
       "      <td>1</td>\n",
       "      <td>Audio</td>\n",
       "    </tr>\n",
       "    <tr>\n",
       "      <th>2</th>\n",
       "      <td>3</td>\n",
       "      <td>Contoso 1G MP3 Player E100 White</td>\n",
       "      <td>Contoso</td>\n",
       "      <td>White</td>\n",
       "      <td>7.40</td>\n",
       "      <td>14.52</td>\n",
       "      <td>101</td>\n",
       "      <td>MP4&amp;MP3</td>\n",
       "      <td>1</td>\n",
       "      <td>Audio</td>\n",
       "    </tr>\n",
       "    <tr>\n",
       "      <th>3</th>\n",
       "      <td>4</td>\n",
       "      <td>Contoso 2G MP3 Player E200 Silver</td>\n",
       "      <td>Contoso</td>\n",
       "      <td>Silver</td>\n",
       "      <td>11.00</td>\n",
       "      <td>21.57</td>\n",
       "      <td>101</td>\n",
       "      <td>MP4&amp;MP3</td>\n",
       "      <td>1</td>\n",
       "      <td>Audio</td>\n",
       "    </tr>\n",
       "    <tr>\n",
       "      <th>4</th>\n",
       "      <td>5</td>\n",
       "      <td>Contoso 2G MP3 Player E200 Red</td>\n",
       "      <td>Contoso</td>\n",
       "      <td>Red</td>\n",
       "      <td>11.00</td>\n",
       "      <td>21.57</td>\n",
       "      <td>101</td>\n",
       "      <td>MP4&amp;MP3</td>\n",
       "      <td>1</td>\n",
       "      <td>Audio</td>\n",
       "    </tr>\n",
       "    <tr>\n",
       "      <th>...</th>\n",
       "      <td>...</td>\n",
       "      <td>...</td>\n",
       "      <td>...</td>\n",
       "      <td>...</td>\n",
       "      <td>...</td>\n",
       "      <td>...</td>\n",
       "      <td>...</td>\n",
       "      <td>...</td>\n",
       "      <td>...</td>\n",
       "      <td>...</td>\n",
       "    </tr>\n",
       "    <tr>\n",
       "      <th>2512</th>\n",
       "      <td>2513</td>\n",
       "      <td>Contoso Bluetooth Active Headphones L15 Red</td>\n",
       "      <td>Contoso</td>\n",
       "      <td>Red</td>\n",
       "      <td>43.07</td>\n",
       "      <td>129.99</td>\n",
       "      <td>505</td>\n",
       "      <td>Cell phones Accessories</td>\n",
       "      <td>5</td>\n",
       "      <td>Cell phones</td>\n",
       "    </tr>\n",
       "    <tr>\n",
       "      <th>2513</th>\n",
       "      <td>2514</td>\n",
       "      <td>Contoso Bluetooth Active Headphones L15 White</td>\n",
       "      <td>Contoso</td>\n",
       "      <td>White</td>\n",
       "      <td>43.07</td>\n",
       "      <td>129.99</td>\n",
       "      <td>505</td>\n",
       "      <td>Cell phones Accessories</td>\n",
       "      <td>5</td>\n",
       "      <td>Cell phones</td>\n",
       "    </tr>\n",
       "    <tr>\n",
       "      <th>2514</th>\n",
       "      <td>2515</td>\n",
       "      <td>Contoso In-Line Coupler E180 White</td>\n",
       "      <td>Contoso</td>\n",
       "      <td>White</td>\n",
       "      <td>1.71</td>\n",
       "      <td>3.35</td>\n",
       "      <td>505</td>\n",
       "      <td>Cell phones Accessories</td>\n",
       "      <td>5</td>\n",
       "      <td>Cell phones</td>\n",
       "    </tr>\n",
       "    <tr>\n",
       "      <th>2515</th>\n",
       "      <td>2516</td>\n",
       "      <td>Contoso In-Line Coupler E180 Black</td>\n",
       "      <td>Contoso</td>\n",
       "      <td>Black</td>\n",
       "      <td>1.71</td>\n",
       "      <td>3.35</td>\n",
       "      <td>505</td>\n",
       "      <td>Cell phones Accessories</td>\n",
       "      <td>5</td>\n",
       "      <td>Cell phones</td>\n",
       "    </tr>\n",
       "    <tr>\n",
       "      <th>2516</th>\n",
       "      <td>2517</td>\n",
       "      <td>Contoso In-Line Coupler E180 Silver</td>\n",
       "      <td>Contoso</td>\n",
       "      <td>Silver</td>\n",
       "      <td>1.71</td>\n",
       "      <td>3.35</td>\n",
       "      <td>505</td>\n",
       "      <td>Cell phones Accessories</td>\n",
       "      <td>5</td>\n",
       "      <td>Cell phones</td>\n",
       "    </tr>\n",
       "  </tbody>\n",
       "</table>\n",
       "<p>2517 rows × 10 columns</p>\n",
       "</div>"
      ],
      "text/plain": [
       "      product_key                                   product_name    brand  \\\n",
       "0               1            Contoso 512MB MP3 Player E51 Silver  Contoso   \n",
       "1               2              Contoso 512MB MP3 Player E51 Blue  Contoso   \n",
       "2               3               Contoso 1G MP3 Player E100 White  Contoso   \n",
       "3               4              Contoso 2G MP3 Player E200 Silver  Contoso   \n",
       "4               5                 Contoso 2G MP3 Player E200 Red  Contoso   \n",
       "...           ...                                            ...      ...   \n",
       "2512         2513    Contoso Bluetooth Active Headphones L15 Red  Contoso   \n",
       "2513         2514  Contoso Bluetooth Active Headphones L15 White  Contoso   \n",
       "2514         2515             Contoso In-Line Coupler E180 White  Contoso   \n",
       "2515         2516             Contoso In-Line Coupler E180 Black  Contoso   \n",
       "2516         2517            Contoso In-Line Coupler E180 Silver  Contoso   \n",
       "\n",
       "       color  unit_cost_usd  unit_price_usd  sub_category_key  \\\n",
       "0     Silver           6.62           12.99               101   \n",
       "1       Blue           6.62           12.99               101   \n",
       "2      White           7.40           14.52               101   \n",
       "3     Silver          11.00           21.57               101   \n",
       "4        Red          11.00           21.57               101   \n",
       "...      ...            ...             ...               ...   \n",
       "2512     Red          43.07          129.99               505   \n",
       "2513   White          43.07          129.99               505   \n",
       "2514   White           1.71            3.35               505   \n",
       "2515   Black           1.71            3.35               505   \n",
       "2516  Silver           1.71            3.35               505   \n",
       "\n",
       "                 sub_category  category_key     category  \n",
       "0                     MP4&MP3             1        Audio  \n",
       "1                     MP4&MP3             1        Audio  \n",
       "2                     MP4&MP3             1        Audio  \n",
       "3                     MP4&MP3             1        Audio  \n",
       "4                     MP4&MP3             1        Audio  \n",
       "...                       ...           ...          ...  \n",
       "2512  Cell phones Accessories             5  Cell phones  \n",
       "2513  Cell phones Accessories             5  Cell phones  \n",
       "2514  Cell phones Accessories             5  Cell phones  \n",
       "2515  Cell phones Accessories             5  Cell phones  \n",
       "2516  Cell phones Accessories             5  Cell phones  \n",
       "\n",
       "[2517 rows x 10 columns]"
      ]
     },
     "execution_count": 30,
     "metadata": {},
     "output_type": "execute_result"
    }
   ],
   "source": [
    "products_df"
   ]
  },
  {
   "cell_type": "markdown",
   "metadata": {},
   "source": [
    "# sales"
   ]
  },
  {
   "cell_type": "code",
   "execution_count": 32,
   "metadata": {},
   "outputs": [],
   "source": [
    "sales_df = pd.read_csv(r'C:\\Users\\THIRU\\OneDrive\\Desktop\\data_illuminate\\sales.csv')"
   ]
  },
  {
   "cell_type": "code",
   "execution_count": 33,
   "metadata": {},
   "outputs": [
    {
     "data": {
      "text/html": [
       "<div>\n",
       "<style scoped>\n",
       "    .dataframe tbody tr th:only-of-type {\n",
       "        vertical-align: middle;\n",
       "    }\n",
       "\n",
       "    .dataframe tbody tr th {\n",
       "        vertical-align: top;\n",
       "    }\n",
       "\n",
       "    .dataframe thead th {\n",
       "        text-align: right;\n",
       "    }\n",
       "</style>\n",
       "<table border=\"1\" class=\"dataframe\">\n",
       "  <thead>\n",
       "    <tr style=\"text-align: right;\">\n",
       "      <th></th>\n",
       "      <th>Order Number</th>\n",
       "      <th>Line Item</th>\n",
       "      <th>Order Date</th>\n",
       "      <th>Delivery Date</th>\n",
       "      <th>CustomerKey</th>\n",
       "      <th>StoreKey</th>\n",
       "      <th>ProductKey</th>\n",
       "      <th>Quantity</th>\n",
       "      <th>Currency Code</th>\n",
       "    </tr>\n",
       "  </thead>\n",
       "  <tbody>\n",
       "    <tr>\n",
       "      <th>0</th>\n",
       "      <td>366000</td>\n",
       "      <td>1</td>\n",
       "      <td>1/1/2016</td>\n",
       "      <td>NaN</td>\n",
       "      <td>265598</td>\n",
       "      <td>10</td>\n",
       "      <td>1304</td>\n",
       "      <td>1</td>\n",
       "      <td>CAD</td>\n",
       "    </tr>\n",
       "    <tr>\n",
       "      <th>1</th>\n",
       "      <td>366001</td>\n",
       "      <td>1</td>\n",
       "      <td>1/1/2016</td>\n",
       "      <td>1/13/2016</td>\n",
       "      <td>1269051</td>\n",
       "      <td>0</td>\n",
       "      <td>1048</td>\n",
       "      <td>2</td>\n",
       "      <td>USD</td>\n",
       "    </tr>\n",
       "    <tr>\n",
       "      <th>2</th>\n",
       "      <td>366001</td>\n",
       "      <td>2</td>\n",
       "      <td>1/1/2016</td>\n",
       "      <td>1/13/2016</td>\n",
       "      <td>1269051</td>\n",
       "      <td>0</td>\n",
       "      <td>2007</td>\n",
       "      <td>1</td>\n",
       "      <td>USD</td>\n",
       "    </tr>\n",
       "  </tbody>\n",
       "</table>\n",
       "</div>"
      ],
      "text/plain": [
       "   Order Number  Line Item Order Date Delivery Date  CustomerKey  StoreKey  \\\n",
       "0        366000          1   1/1/2016           NaN       265598        10   \n",
       "1        366001          1   1/1/2016     1/13/2016      1269051         0   \n",
       "2        366001          2   1/1/2016     1/13/2016      1269051         0   \n",
       "\n",
       "   ProductKey  Quantity Currency Code  \n",
       "0        1304         1           CAD  \n",
       "1        1048         2           USD  \n",
       "2        2007         1           USD  "
      ]
     },
     "execution_count": 33,
     "metadata": {},
     "output_type": "execute_result"
    }
   ],
   "source": [
    "sales_df.head(3)"
   ]
  },
  {
   "cell_type": "markdown",
   "metadata": {},
   "source": [
    "check for null values"
   ]
  },
  {
   "cell_type": "code",
   "execution_count": 34,
   "metadata": {},
   "outputs": [
    {
     "data": {
      "text/plain": [
       "Order Number         0\n",
       "Line Item            0\n",
       "Order Date           0\n",
       "Delivery Date    49719\n",
       "CustomerKey          0\n",
       "StoreKey             0\n",
       "ProductKey           0\n",
       "Quantity             0\n",
       "Currency Code        0\n",
       "dtype: int64"
      ]
     },
     "execution_count": 34,
     "metadata": {},
     "output_type": "execute_result"
    }
   ],
   "source": [
    "sales_df.isnull().sum()"
   ]
  },
  {
   "cell_type": "markdown",
   "metadata": {},
   "source": [
    "drop delivery date column as it contains 49719 null records"
   ]
  },
  {
   "cell_type": "code",
   "execution_count": 35,
   "metadata": {},
   "outputs": [],
   "source": [
    "sales_df = sales_df.drop(columns=['Delivery Date'])"
   ]
  },
  {
   "cell_type": "markdown",
   "metadata": {},
   "source": [
    "check for duplicates"
   ]
  },
  {
   "cell_type": "code",
   "execution_count": 36,
   "metadata": {},
   "outputs": [
    {
     "data": {
      "text/plain": [
       "np.int64(0)"
      ]
     },
     "execution_count": 36,
     "metadata": {},
     "output_type": "execute_result"
    }
   ],
   "source": [
    "sales_df.duplicated().sum()"
   ]
  },
  {
   "cell_type": "markdown",
   "metadata": {},
   "source": [
    "data type conversion"
   ]
  },
  {
   "cell_type": "code",
   "execution_count": 38,
   "metadata": {},
   "outputs": [
    {
     "data": {
      "text/plain": [
       "Order Number      int64\n",
       "Line Item         int64\n",
       "Order Date       object\n",
       "CustomerKey       int64\n",
       "StoreKey          int64\n",
       "ProductKey        int64\n",
       "Quantity          int64\n",
       "Currency Code    object\n",
       "dtype: object"
      ]
     },
     "execution_count": 38,
     "metadata": {},
     "output_type": "execute_result"
    }
   ],
   "source": [
    "sales_df.dtypes"
   ]
  },
  {
   "cell_type": "code",
   "execution_count": 39,
   "metadata": {},
   "outputs": [],
   "source": [
    "sales_df['Order Date'] = pd.to_datetime(sales_df['Order Date'],format='%m/%d/%Y')"
   ]
  },
  {
   "cell_type": "markdown",
   "metadata": {},
   "source": [
    "standardize text data"
   ]
  },
  {
   "cell_type": "code",
   "execution_count": 40,
   "metadata": {},
   "outputs": [],
   "source": [
    "sales_df['Currency Code'] = sales_df['Currency Code'].str.strip().str.upper()"
   ]
  },
  {
   "cell_type": "markdown",
   "metadata": {},
   "source": [
    "Rename columns"
   ]
  },
  {
   "cell_type": "code",
   "execution_count": 41,
   "metadata": {},
   "outputs": [
    {
     "data": {
      "text/plain": [
       "Index(['Order Number', 'Line Item', 'Order Date', 'CustomerKey', 'StoreKey',\n",
       "       'ProductKey', 'Quantity', 'Currency Code'],\n",
       "      dtype='object')"
      ]
     },
     "execution_count": 41,
     "metadata": {},
     "output_type": "execute_result"
    }
   ],
   "source": [
    "sales_df.columns"
   ]
  },
  {
   "cell_type": "code",
   "execution_count": 42,
   "metadata": {},
   "outputs": [],
   "source": [
    "sales_df = sales_df.rename(columns={\n",
    "    'Order Number': 'order_number',\n",
    "    'Line Item': 'line_item',\n",
    "    'Order Date': 'order_date',\n",
    "    'CustomerKey': 'customer_key',\n",
    "    'StoreKey': 'store_key',\n",
    "    'ProductKey': 'product_key',\n",
    "    'Quantity': 'quantity',\n",
    "    'Currency Code': 'currency_code',\n",
    "})"
   ]
  },
  {
   "cell_type": "code",
   "execution_count": 43,
   "metadata": {},
   "outputs": [
    {
     "name": "stdout",
     "output_type": "stream",
     "text": [
      "<class 'pandas.core.frame.DataFrame'>\n",
      "RangeIndex: 62884 entries, 0 to 62883\n",
      "Data columns (total 8 columns):\n",
      " #   Column         Non-Null Count  Dtype         \n",
      "---  ------         --------------  -----         \n",
      " 0   order_number   62884 non-null  int64         \n",
      " 1   line_item      62884 non-null  int64         \n",
      " 2   order_date     62884 non-null  datetime64[ns]\n",
      " 3   customer_key   62884 non-null  int64         \n",
      " 4   store_key      62884 non-null  int64         \n",
      " 5   product_key    62884 non-null  int64         \n",
      " 6   quantity       62884 non-null  int64         \n",
      " 7   currency_code  62884 non-null  object        \n",
      "dtypes: datetime64[ns](1), int64(6), object(1)\n",
      "memory usage: 3.8+ MB\n"
     ]
    }
   ],
   "source": [
    "sales_df.info()"
   ]
  },
  {
   "cell_type": "code",
   "execution_count": 44,
   "metadata": {},
   "outputs": [
    {
     "data": {
      "text/html": [
       "<div>\n",
       "<style scoped>\n",
       "    .dataframe tbody tr th:only-of-type {\n",
       "        vertical-align: middle;\n",
       "    }\n",
       "\n",
       "    .dataframe tbody tr th {\n",
       "        vertical-align: top;\n",
       "    }\n",
       "\n",
       "    .dataframe thead th {\n",
       "        text-align: right;\n",
       "    }\n",
       "</style>\n",
       "<table border=\"1\" class=\"dataframe\">\n",
       "  <thead>\n",
       "    <tr style=\"text-align: right;\">\n",
       "      <th></th>\n",
       "      <th>order_number</th>\n",
       "      <th>line_item</th>\n",
       "      <th>order_date</th>\n",
       "      <th>customer_key</th>\n",
       "      <th>store_key</th>\n",
       "      <th>product_key</th>\n",
       "      <th>quantity</th>\n",
       "    </tr>\n",
       "  </thead>\n",
       "  <tbody>\n",
       "    <tr>\n",
       "      <th>count</th>\n",
       "      <td>6.288400e+04</td>\n",
       "      <td>62884.000000</td>\n",
       "      <td>62884</td>\n",
       "      <td>6.288400e+04</td>\n",
       "      <td>62884.000000</td>\n",
       "      <td>62884.000000</td>\n",
       "      <td>62884.000000</td>\n",
       "    </tr>\n",
       "    <tr>\n",
       "      <th>mean</th>\n",
       "      <td>1.430905e+06</td>\n",
       "      <td>2.164207</td>\n",
       "      <td>2018-11-30 21:21:56.939126016</td>\n",
       "      <td>1.180797e+06</td>\n",
       "      <td>31.802144</td>\n",
       "      <td>1125.859344</td>\n",
       "      <td>3.144790</td>\n",
       "    </tr>\n",
       "    <tr>\n",
       "      <th>min</th>\n",
       "      <td>3.660000e+05</td>\n",
       "      <td>1.000000</td>\n",
       "      <td>2016-01-01 00:00:00</td>\n",
       "      <td>3.010000e+02</td>\n",
       "      <td>0.000000</td>\n",
       "      <td>1.000000</td>\n",
       "      <td>1.000000</td>\n",
       "    </tr>\n",
       "    <tr>\n",
       "      <th>25%</th>\n",
       "      <td>1.121017e+06</td>\n",
       "      <td>1.000000</td>\n",
       "      <td>2018-01-25 00:00:00</td>\n",
       "      <td>6.808580e+05</td>\n",
       "      <td>8.000000</td>\n",
       "      <td>437.000000</td>\n",
       "      <td>1.000000</td>\n",
       "    </tr>\n",
       "    <tr>\n",
       "      <th>50%</th>\n",
       "      <td>1.498016e+06</td>\n",
       "      <td>2.000000</td>\n",
       "      <td>2019-02-06 00:00:00</td>\n",
       "      <td>1.261200e+06</td>\n",
       "      <td>37.000000</td>\n",
       "      <td>1358.000000</td>\n",
       "      <td>2.000000</td>\n",
       "    </tr>\n",
       "    <tr>\n",
       "      <th>75%</th>\n",
       "      <td>1.788010e+06</td>\n",
       "      <td>3.000000</td>\n",
       "      <td>2019-11-23 00:00:00</td>\n",
       "      <td>1.686496e+06</td>\n",
       "      <td>53.000000</td>\n",
       "      <td>1650.000000</td>\n",
       "      <td>4.000000</td>\n",
       "    </tr>\n",
       "    <tr>\n",
       "      <th>max</th>\n",
       "      <td>2.243032e+06</td>\n",
       "      <td>7.000000</td>\n",
       "      <td>2021-02-20 00:00:00</td>\n",
       "      <td>2.099937e+06</td>\n",
       "      <td>66.000000</td>\n",
       "      <td>2517.000000</td>\n",
       "      <td>10.000000</td>\n",
       "    </tr>\n",
       "    <tr>\n",
       "      <th>std</th>\n",
       "      <td>4.532963e+05</td>\n",
       "      <td>1.365170</td>\n",
       "      <td>NaN</td>\n",
       "      <td>5.859634e+05</td>\n",
       "      <td>22.978188</td>\n",
       "      <td>709.244010</td>\n",
       "      <td>2.256371</td>\n",
       "    </tr>\n",
       "  </tbody>\n",
       "</table>\n",
       "</div>"
      ],
      "text/plain": [
       "       order_number     line_item                     order_date  \\\n",
       "count  6.288400e+04  62884.000000                          62884   \n",
       "mean   1.430905e+06      2.164207  2018-11-30 21:21:56.939126016   \n",
       "min    3.660000e+05      1.000000            2016-01-01 00:00:00   \n",
       "25%    1.121017e+06      1.000000            2018-01-25 00:00:00   \n",
       "50%    1.498016e+06      2.000000            2019-02-06 00:00:00   \n",
       "75%    1.788010e+06      3.000000            2019-11-23 00:00:00   \n",
       "max    2.243032e+06      7.000000            2021-02-20 00:00:00   \n",
       "std    4.532963e+05      1.365170                            NaN   \n",
       "\n",
       "       customer_key     store_key   product_key      quantity  \n",
       "count  6.288400e+04  62884.000000  62884.000000  62884.000000  \n",
       "mean   1.180797e+06     31.802144   1125.859344      3.144790  \n",
       "min    3.010000e+02      0.000000      1.000000      1.000000  \n",
       "25%    6.808580e+05      8.000000    437.000000      1.000000  \n",
       "50%    1.261200e+06     37.000000   1358.000000      2.000000  \n",
       "75%    1.686496e+06     53.000000   1650.000000      4.000000  \n",
       "max    2.099937e+06     66.000000   2517.000000     10.000000  \n",
       "std    5.859634e+05     22.978188    709.244010      2.256371  "
      ]
     },
     "execution_count": 44,
     "metadata": {},
     "output_type": "execute_result"
    }
   ],
   "source": [
    "sales_df.describe()"
   ]
  },
  {
   "cell_type": "markdown",
   "metadata": {},
   "source": [
    "Export cleaned dataset"
   ]
  },
  {
   "cell_type": "code",
   "execution_count": 45,
   "metadata": {},
   "outputs": [],
   "source": [
    "sales_df.to_csv('cleaned_dataset/sales.csv',index=False)"
   ]
  },
  {
   "cell_type": "code",
   "execution_count": 46,
   "metadata": {},
   "outputs": [
    {
     "data": {
      "text/html": [
       "<div>\n",
       "<style scoped>\n",
       "    .dataframe tbody tr th:only-of-type {\n",
       "        vertical-align: middle;\n",
       "    }\n",
       "\n",
       "    .dataframe tbody tr th {\n",
       "        vertical-align: top;\n",
       "    }\n",
       "\n",
       "    .dataframe thead th {\n",
       "        text-align: right;\n",
       "    }\n",
       "</style>\n",
       "<table border=\"1\" class=\"dataframe\">\n",
       "  <thead>\n",
       "    <tr style=\"text-align: right;\">\n",
       "      <th></th>\n",
       "      <th>order_number</th>\n",
       "      <th>line_item</th>\n",
       "      <th>order_date</th>\n",
       "      <th>customer_key</th>\n",
       "      <th>store_key</th>\n",
       "      <th>product_key</th>\n",
       "      <th>quantity</th>\n",
       "      <th>currency_code</th>\n",
       "    </tr>\n",
       "  </thead>\n",
       "  <tbody>\n",
       "    <tr>\n",
       "      <th>0</th>\n",
       "      <td>366000</td>\n",
       "      <td>1</td>\n",
       "      <td>2016-01-01</td>\n",
       "      <td>265598</td>\n",
       "      <td>10</td>\n",
       "      <td>1304</td>\n",
       "      <td>1</td>\n",
       "      <td>CAD</td>\n",
       "    </tr>\n",
       "    <tr>\n",
       "      <th>1</th>\n",
       "      <td>366001</td>\n",
       "      <td>1</td>\n",
       "      <td>2016-01-01</td>\n",
       "      <td>1269051</td>\n",
       "      <td>0</td>\n",
       "      <td>1048</td>\n",
       "      <td>2</td>\n",
       "      <td>USD</td>\n",
       "    </tr>\n",
       "    <tr>\n",
       "      <th>2</th>\n",
       "      <td>366001</td>\n",
       "      <td>2</td>\n",
       "      <td>2016-01-01</td>\n",
       "      <td>1269051</td>\n",
       "      <td>0</td>\n",
       "      <td>2007</td>\n",
       "      <td>1</td>\n",
       "      <td>USD</td>\n",
       "    </tr>\n",
       "    <tr>\n",
       "      <th>3</th>\n",
       "      <td>366002</td>\n",
       "      <td>1</td>\n",
       "      <td>2016-01-01</td>\n",
       "      <td>266019</td>\n",
       "      <td>0</td>\n",
       "      <td>1106</td>\n",
       "      <td>7</td>\n",
       "      <td>CAD</td>\n",
       "    </tr>\n",
       "    <tr>\n",
       "      <th>4</th>\n",
       "      <td>366002</td>\n",
       "      <td>2</td>\n",
       "      <td>2016-01-01</td>\n",
       "      <td>266019</td>\n",
       "      <td>0</td>\n",
       "      <td>373</td>\n",
       "      <td>1</td>\n",
       "      <td>CAD</td>\n",
       "    </tr>\n",
       "    <tr>\n",
       "      <th>...</th>\n",
       "      <td>...</td>\n",
       "      <td>...</td>\n",
       "      <td>...</td>\n",
       "      <td>...</td>\n",
       "      <td>...</td>\n",
       "      <td>...</td>\n",
       "      <td>...</td>\n",
       "      <td>...</td>\n",
       "    </tr>\n",
       "    <tr>\n",
       "      <th>62879</th>\n",
       "      <td>2243030</td>\n",
       "      <td>1</td>\n",
       "      <td>2021-02-20</td>\n",
       "      <td>1216913</td>\n",
       "      <td>43</td>\n",
       "      <td>632</td>\n",
       "      <td>3</td>\n",
       "      <td>USD</td>\n",
       "    </tr>\n",
       "    <tr>\n",
       "      <th>62880</th>\n",
       "      <td>2243031</td>\n",
       "      <td>1</td>\n",
       "      <td>2021-02-20</td>\n",
       "      <td>511229</td>\n",
       "      <td>0</td>\n",
       "      <td>98</td>\n",
       "      <td>4</td>\n",
       "      <td>EUR</td>\n",
       "    </tr>\n",
       "    <tr>\n",
       "      <th>62881</th>\n",
       "      <td>2243032</td>\n",
       "      <td>1</td>\n",
       "      <td>2021-02-20</td>\n",
       "      <td>331277</td>\n",
       "      <td>0</td>\n",
       "      <td>1613</td>\n",
       "      <td>2</td>\n",
       "      <td>CAD</td>\n",
       "    </tr>\n",
       "    <tr>\n",
       "      <th>62882</th>\n",
       "      <td>2243032</td>\n",
       "      <td>2</td>\n",
       "      <td>2021-02-20</td>\n",
       "      <td>331277</td>\n",
       "      <td>0</td>\n",
       "      <td>1717</td>\n",
       "      <td>2</td>\n",
       "      <td>CAD</td>\n",
       "    </tr>\n",
       "    <tr>\n",
       "      <th>62883</th>\n",
       "      <td>2243032</td>\n",
       "      <td>3</td>\n",
       "      <td>2021-02-20</td>\n",
       "      <td>331277</td>\n",
       "      <td>0</td>\n",
       "      <td>464</td>\n",
       "      <td>7</td>\n",
       "      <td>CAD</td>\n",
       "    </tr>\n",
       "  </tbody>\n",
       "</table>\n",
       "<p>62884 rows × 8 columns</p>\n",
       "</div>"
      ],
      "text/plain": [
       "       order_number  line_item order_date  customer_key  store_key  \\\n",
       "0            366000          1 2016-01-01        265598         10   \n",
       "1            366001          1 2016-01-01       1269051          0   \n",
       "2            366001          2 2016-01-01       1269051          0   \n",
       "3            366002          1 2016-01-01        266019          0   \n",
       "4            366002          2 2016-01-01        266019          0   \n",
       "...             ...        ...        ...           ...        ...   \n",
       "62879       2243030          1 2021-02-20       1216913         43   \n",
       "62880       2243031          1 2021-02-20        511229          0   \n",
       "62881       2243032          1 2021-02-20        331277          0   \n",
       "62882       2243032          2 2021-02-20        331277          0   \n",
       "62883       2243032          3 2021-02-20        331277          0   \n",
       "\n",
       "       product_key  quantity currency_code  \n",
       "0             1304         1           CAD  \n",
       "1             1048         2           USD  \n",
       "2             2007         1           USD  \n",
       "3             1106         7           CAD  \n",
       "4              373         1           CAD  \n",
       "...            ...       ...           ...  \n",
       "62879          632         3           USD  \n",
       "62880           98         4           EUR  \n",
       "62881         1613         2           CAD  \n",
       "62882         1717         2           CAD  \n",
       "62883          464         7           CAD  \n",
       "\n",
       "[62884 rows x 8 columns]"
      ]
     },
     "execution_count": 46,
     "metadata": {},
     "output_type": "execute_result"
    }
   ],
   "source": [
    "sales_df"
   ]
  },
  {
   "cell_type": "markdown",
   "metadata": {},
   "source": [
    "# store"
   ]
  },
  {
   "cell_type": "code",
   "execution_count": 47,
   "metadata": {},
   "outputs": [],
   "source": [
    "stores_df = pd.read_csv(r'C:\\Users\\THIRU\\OneDrive\\Desktop\\data_illuminate\\stores.csv')"
   ]
  },
  {
   "cell_type": "code",
   "execution_count": 48,
   "metadata": {},
   "outputs": [
    {
     "data": {
      "text/html": [
       "<div>\n",
       "<style scoped>\n",
       "    .dataframe tbody tr th:only-of-type {\n",
       "        vertical-align: middle;\n",
       "    }\n",
       "\n",
       "    .dataframe tbody tr th {\n",
       "        vertical-align: top;\n",
       "    }\n",
       "\n",
       "    .dataframe thead th {\n",
       "        text-align: right;\n",
       "    }\n",
       "</style>\n",
       "<table border=\"1\" class=\"dataframe\">\n",
       "  <thead>\n",
       "    <tr style=\"text-align: right;\">\n",
       "      <th></th>\n",
       "      <th>StoreKey</th>\n",
       "      <th>Country</th>\n",
       "      <th>State</th>\n",
       "      <th>Square Meters</th>\n",
       "      <th>Open Date</th>\n",
       "    </tr>\n",
       "  </thead>\n",
       "  <tbody>\n",
       "    <tr>\n",
       "      <th>0</th>\n",
       "      <td>1</td>\n",
       "      <td>Australia</td>\n",
       "      <td>Australian Capital Territory</td>\n",
       "      <td>595.0</td>\n",
       "      <td>1/1/2008</td>\n",
       "    </tr>\n",
       "    <tr>\n",
       "      <th>1</th>\n",
       "      <td>2</td>\n",
       "      <td>Australia</td>\n",
       "      <td>Northern Territory</td>\n",
       "      <td>665.0</td>\n",
       "      <td>1/12/2008</td>\n",
       "    </tr>\n",
       "    <tr>\n",
       "      <th>2</th>\n",
       "      <td>3</td>\n",
       "      <td>Australia</td>\n",
       "      <td>South Australia</td>\n",
       "      <td>2000.0</td>\n",
       "      <td>1/7/2012</td>\n",
       "    </tr>\n",
       "    <tr>\n",
       "      <th>3</th>\n",
       "      <td>4</td>\n",
       "      <td>Australia</td>\n",
       "      <td>Tasmania</td>\n",
       "      <td>2000.0</td>\n",
       "      <td>1/1/2010</td>\n",
       "    </tr>\n",
       "    <tr>\n",
       "      <th>4</th>\n",
       "      <td>5</td>\n",
       "      <td>Australia</td>\n",
       "      <td>Victoria</td>\n",
       "      <td>2000.0</td>\n",
       "      <td>12/9/2015</td>\n",
       "    </tr>\n",
       "  </tbody>\n",
       "</table>\n",
       "</div>"
      ],
      "text/plain": [
       "   StoreKey    Country                         State  Square Meters  Open Date\n",
       "0         1  Australia  Australian Capital Territory          595.0   1/1/2008\n",
       "1         2  Australia            Northern Territory          665.0  1/12/2008\n",
       "2         3  Australia               South Australia         2000.0   1/7/2012\n",
       "3         4  Australia                      Tasmania         2000.0   1/1/2010\n",
       "4         5  Australia                      Victoria         2000.0  12/9/2015"
      ]
     },
     "execution_count": 48,
     "metadata": {},
     "output_type": "execute_result"
    }
   ],
   "source": [
    "stores_df.head()"
   ]
  },
  {
   "cell_type": "code",
   "execution_count": 49,
   "metadata": {},
   "outputs": [
    {
     "name": "stdout",
     "output_type": "stream",
     "text": [
      "<class 'pandas.core.frame.DataFrame'>\n",
      "RangeIndex: 67 entries, 0 to 66\n",
      "Data columns (total 5 columns):\n",
      " #   Column         Non-Null Count  Dtype  \n",
      "---  ------         --------------  -----  \n",
      " 0   StoreKey       67 non-null     int64  \n",
      " 1   Country        67 non-null     object \n",
      " 2   State          67 non-null     object \n",
      " 3   Square Meters  66 non-null     float64\n",
      " 4   Open Date      67 non-null     object \n",
      "dtypes: float64(1), int64(1), object(3)\n",
      "memory usage: 2.7+ KB\n"
     ]
    }
   ],
   "source": [
    "stores_df.info() "
   ]
  },
  {
   "cell_type": "markdown",
   "metadata": {},
   "source": [
    "Open Date column has wrong datatype instead of datetime it has object so, altering it"
   ]
  },
  {
   "cell_type": "code",
   "execution_count": 50,
   "metadata": {},
   "outputs": [],
   "source": [
    "stores_df['Open Date'] = pd.to_datetime(stores_df['Open Date'],format='%m/%d/%Y')"
   ]
  },
  {
   "cell_type": "code",
   "execution_count": 51,
   "metadata": {},
   "outputs": [
    {
     "name": "stdout",
     "output_type": "stream",
     "text": [
      "<class 'pandas.core.frame.DataFrame'>\n",
      "RangeIndex: 67 entries, 0 to 66\n",
      "Data columns (total 5 columns):\n",
      " #   Column         Non-Null Count  Dtype         \n",
      "---  ------         --------------  -----         \n",
      " 0   StoreKey       67 non-null     int64         \n",
      " 1   Country        67 non-null     object        \n",
      " 2   State          67 non-null     object        \n",
      " 3   Square Meters  66 non-null     float64       \n",
      " 4   Open Date      67 non-null     datetime64[ns]\n",
      "dtypes: datetime64[ns](1), float64(1), int64(1), object(2)\n",
      "memory usage: 2.7+ KB\n"
     ]
    }
   ],
   "source": [
    "\n",
    "stores_df.info()"
   ]
  },
  {
   "cell_type": "code",
   "execution_count": 52,
   "metadata": {},
   "outputs": [
    {
     "data": {
      "text/plain": [
       "StoreKey         0\n",
       "Country          0\n",
       "State            0\n",
       "Square Meters    1\n",
       "Open Date        0\n",
       "dtype: int64"
      ]
     },
     "execution_count": 52,
     "metadata": {},
     "output_type": "execute_result"
    }
   ],
   "source": [
    "stores_df.isna().sum()"
   ]
  },
  {
   "cell_type": "code",
   "execution_count": 53,
   "metadata": {},
   "outputs": [
    {
     "data": {
      "text/html": [
       "<div>\n",
       "<style scoped>\n",
       "    .dataframe tbody tr th:only-of-type {\n",
       "        vertical-align: middle;\n",
       "    }\n",
       "\n",
       "    .dataframe tbody tr th {\n",
       "        vertical-align: top;\n",
       "    }\n",
       "\n",
       "    .dataframe thead th {\n",
       "        text-align: right;\n",
       "    }\n",
       "</style>\n",
       "<table border=\"1\" class=\"dataframe\">\n",
       "  <thead>\n",
       "    <tr style=\"text-align: right;\">\n",
       "      <th></th>\n",
       "      <th>StoreKey</th>\n",
       "      <th>Square Meters</th>\n",
       "      <th>Open Date</th>\n",
       "    </tr>\n",
       "  </thead>\n",
       "  <tbody>\n",
       "    <tr>\n",
       "      <th>count</th>\n",
       "      <td>67.000000</td>\n",
       "      <td>66.000000</td>\n",
       "      <td>67</td>\n",
       "    </tr>\n",
       "    <tr>\n",
       "      <th>mean</th>\n",
       "      <td>33.000000</td>\n",
       "      <td>1402.196970</td>\n",
       "      <td>2011-06-24 00:42:59.104477696</td>\n",
       "    </tr>\n",
       "    <tr>\n",
       "      <th>min</th>\n",
       "      <td>0.000000</td>\n",
       "      <td>245.000000</td>\n",
       "      <td>2005-03-04 00:00:00</td>\n",
       "    </tr>\n",
       "    <tr>\n",
       "      <th>25%</th>\n",
       "      <td>16.500000</td>\n",
       "      <td>1108.750000</td>\n",
       "      <td>2009-06-03 00:00:00</td>\n",
       "    </tr>\n",
       "    <tr>\n",
       "      <th>50%</th>\n",
       "      <td>33.000000</td>\n",
       "      <td>1347.500000</td>\n",
       "      <td>2010-06-03 00:00:00</td>\n",
       "    </tr>\n",
       "    <tr>\n",
       "      <th>75%</th>\n",
       "      <td>49.500000</td>\n",
       "      <td>2000.000000</td>\n",
       "      <td>2013-06-07 00:00:00</td>\n",
       "    </tr>\n",
       "    <tr>\n",
       "      <th>max</th>\n",
       "      <td>66.000000</td>\n",
       "      <td>2105.000000</td>\n",
       "      <td>2019-03-05 00:00:00</td>\n",
       "    </tr>\n",
       "    <tr>\n",
       "      <th>std</th>\n",
       "      <td>19.485037</td>\n",
       "      <td>576.404058</td>\n",
       "      <td>NaN</td>\n",
       "    </tr>\n",
       "  </tbody>\n",
       "</table>\n",
       "</div>"
      ],
      "text/plain": [
       "        StoreKey  Square Meters                      Open Date\n",
       "count  67.000000      66.000000                             67\n",
       "mean   33.000000    1402.196970  2011-06-24 00:42:59.104477696\n",
       "min     0.000000     245.000000            2005-03-04 00:00:00\n",
       "25%    16.500000    1108.750000            2009-06-03 00:00:00\n",
       "50%    33.000000    1347.500000            2010-06-03 00:00:00\n",
       "75%    49.500000    2000.000000            2013-06-07 00:00:00\n",
       "max    66.000000    2105.000000            2019-03-05 00:00:00\n",
       "std    19.485037     576.404058                            NaN"
      ]
     },
     "execution_count": 53,
     "metadata": {},
     "output_type": "execute_result"
    }
   ],
   "source": [
    "stores_df.describe()"
   ]
  },
  {
   "cell_type": "code",
   "execution_count": 54,
   "metadata": {},
   "outputs": [
    {
     "name": "stdout",
     "output_type": "stream",
     "text": [
      "<class 'pandas.core.frame.DataFrame'>\n",
      "RangeIndex: 67 entries, 0 to 66\n",
      "Data columns (total 5 columns):\n",
      " #   Column         Non-Null Count  Dtype         \n",
      "---  ------         --------------  -----         \n",
      " 0   StoreKey       67 non-null     int64         \n",
      " 1   Country        67 non-null     object        \n",
      " 2   State          67 non-null     object        \n",
      " 3   Square Meters  66 non-null     float64       \n",
      " 4   Open Date      67 non-null     datetime64[ns]\n",
      "dtypes: datetime64[ns](1), float64(1), int64(1), object(2)\n",
      "memory usage: 2.7+ KB\n"
     ]
    }
   ],
   "source": [
    "stores_df.info()"
   ]
  },
  {
   "cell_type": "markdown",
   "metadata": {},
   "source": [
    "Check Duplicates"
   ]
  },
  {
   "cell_type": "code",
   "execution_count": 55,
   "metadata": {},
   "outputs": [
    {
     "data": {
      "text/plain": [
       "np.int64(0)"
      ]
     },
     "execution_count": 55,
     "metadata": {},
     "output_type": "execute_result"
    }
   ],
   "source": [
    "stores_df.duplicated().sum() "
   ]
  },
  {
   "cell_type": "markdown",
   "metadata": {},
   "source": [
    "Standardize Text Columns"
   ]
  },
  {
   "cell_type": "code",
   "execution_count": 56,
   "metadata": {},
   "outputs": [],
   "source": [
    "stores_df['Country'] = stores_df['Country'].str.strip().str.lower()\n",
    "stores_df['State'] = stores_df['State'].str.strip().str.lower()"
   ]
  },
  {
   "cell_type": "code",
   "execution_count": 57,
   "metadata": {},
   "outputs": [
    {
     "data": {
      "text/html": [
       "<div>\n",
       "<style scoped>\n",
       "    .dataframe tbody tr th:only-of-type {\n",
       "        vertical-align: middle;\n",
       "    }\n",
       "\n",
       "    .dataframe tbody tr th {\n",
       "        vertical-align: top;\n",
       "    }\n",
       "\n",
       "    .dataframe thead th {\n",
       "        text-align: right;\n",
       "    }\n",
       "</style>\n",
       "<table border=\"1\" class=\"dataframe\">\n",
       "  <thead>\n",
       "    <tr style=\"text-align: right;\">\n",
       "      <th></th>\n",
       "      <th>StoreKey</th>\n",
       "      <th>Country</th>\n",
       "      <th>State</th>\n",
       "      <th>Square Meters</th>\n",
       "      <th>Open Date</th>\n",
       "    </tr>\n",
       "  </thead>\n",
       "  <tbody>\n",
       "    <tr>\n",
       "      <th>0</th>\n",
       "      <td>1</td>\n",
       "      <td>australia</td>\n",
       "      <td>australian capital territory</td>\n",
       "      <td>595.0</td>\n",
       "      <td>2008-01-01</td>\n",
       "    </tr>\n",
       "    <tr>\n",
       "      <th>1</th>\n",
       "      <td>2</td>\n",
       "      <td>australia</td>\n",
       "      <td>northern territory</td>\n",
       "      <td>665.0</td>\n",
       "      <td>2008-01-12</td>\n",
       "    </tr>\n",
       "    <tr>\n",
       "      <th>2</th>\n",
       "      <td>3</td>\n",
       "      <td>australia</td>\n",
       "      <td>south australia</td>\n",
       "      <td>2000.0</td>\n",
       "      <td>2012-01-07</td>\n",
       "    </tr>\n",
       "    <tr>\n",
       "      <th>3</th>\n",
       "      <td>4</td>\n",
       "      <td>australia</td>\n",
       "      <td>tasmania</td>\n",
       "      <td>2000.0</td>\n",
       "      <td>2010-01-01</td>\n",
       "    </tr>\n",
       "    <tr>\n",
       "      <th>4</th>\n",
       "      <td>5</td>\n",
       "      <td>australia</td>\n",
       "      <td>victoria</td>\n",
       "      <td>2000.0</td>\n",
       "      <td>2015-12-09</td>\n",
       "    </tr>\n",
       "  </tbody>\n",
       "</table>\n",
       "</div>"
      ],
      "text/plain": [
       "   StoreKey    Country                         State  Square Meters  Open Date\n",
       "0         1  australia  australian capital territory          595.0 2008-01-01\n",
       "1         2  australia            northern territory          665.0 2008-01-12\n",
       "2         3  australia               south australia         2000.0 2012-01-07\n",
       "3         4  australia                      tasmania         2000.0 2010-01-01\n",
       "4         5  australia                      victoria         2000.0 2015-12-09"
      ]
     },
     "execution_count": 57,
     "metadata": {},
     "output_type": "execute_result"
    }
   ],
   "source": [
    "stores_df.head()"
   ]
  },
  {
   "cell_type": "markdown",
   "metadata": {},
   "source": [
    "Check for Invalid Values (check if any unwanted text or format)"
   ]
  },
  {
   "cell_type": "code",
   "execution_count": 58,
   "metadata": {},
   "outputs": [
    {
     "data": {
      "text/plain": [
       "array(['australia', 'canada', 'france', 'germany', 'italy', 'netherlands',\n",
       "       'united kingdom', 'united states', 'online'], dtype=object)"
      ]
     },
     "execution_count": 58,
     "metadata": {},
     "output_type": "execute_result"
    }
   ],
   "source": [
    "stores_df['Country'].unique()"
   ]
  },
  {
   "cell_type": "code",
   "execution_count": 59,
   "metadata": {},
   "outputs": [
    {
     "data": {
      "text/plain": [
       "array(['australian capital territory', 'northern territory',\n",
       "       'south australia', 'tasmania', 'victoria', 'western australia',\n",
       "       'new brunswick', 'newfoundland and labrador',\n",
       "       'northwest territories', 'nunavut', 'yukon', 'basse-normandie',\n",
       "       'corse', 'franche-comté', 'la réunion', 'limousin', 'martinique',\n",
       "       'mayotte', 'berlin', 'brandenburg', 'freie hansestadt bremen',\n",
       "       'freistaat thüringen', 'hamburg', 'hessen',\n",
       "       'mecklenburg-vorpommern', 'saarland', 'sachsen-anhalt',\n",
       "       'caltanissetta', 'enna', 'pesaro', 'drenthe', 'flevoland',\n",
       "       'friesland', 'groningen', 'zeeland', 'armagh', 'ayrshire',\n",
       "       'belfast', 'blaenau gwent', 'dungannon and south tyrone',\n",
       "       'fermanagh', 'north down', 'alaska', 'arkansas', 'connecticut',\n",
       "       'delaware', 'hawaii', 'idaho', 'iowa', 'kansas', 'maine',\n",
       "       'mississippi', 'montana', 'nebraska', 'nevada', 'new hampshire',\n",
       "       'new mexico', 'north dakota', 'oregon', 'rhode island',\n",
       "       'south carolina', 'south dakota', 'utah', 'washington dc',\n",
       "       'west virginia', 'wyoming', 'online'], dtype=object)"
      ]
     },
     "execution_count": 59,
     "metadata": {},
     "output_type": "execute_result"
    }
   ],
   "source": [
    "stores_df['State'].unique()"
   ]
  },
  {
   "cell_type": "markdown",
   "metadata": {},
   "source": [
    "Rename columns"
   ]
  },
  {
   "cell_type": "code",
   "execution_count": 60,
   "metadata": {},
   "outputs": [
    {
     "data": {
      "text/plain": [
       "Index(['StoreKey', 'Country', 'State', 'Square Meters', 'Open Date'], dtype='object')"
      ]
     },
     "execution_count": 60,
     "metadata": {},
     "output_type": "execute_result"
    }
   ],
   "source": [
    "stores_df.columns"
   ]
  },
  {
   "cell_type": "code",
   "execution_count": 61,
   "metadata": {},
   "outputs": [],
   "source": [
    "store_df = stores_df.rename(columns={\n",
    "    'StoreKey': 'store_key',\n",
    "    'Country': 'country',\n",
    "    'State': 'state',\n",
    "    'Square Meters': 'square_meters',\n",
    "    'Open Date': 'open_date'\n",
    "})"
   ]
  },
  {
   "cell_type": "markdown",
   "metadata": {},
   "source": [
    "Export Cleaned Data"
   ]
  },
  {
   "cell_type": "code",
   "execution_count": 62,
   "metadata": {},
   "outputs": [],
   "source": [
    "stores_df.to_csv('cleaned_dataset/stores.csv',index=False)"
   ]
  },
  {
   "cell_type": "code",
   "execution_count": 63,
   "metadata": {},
   "outputs": [
    {
     "data": {
      "text/html": [
       "<div>\n",
       "<style scoped>\n",
       "    .dataframe tbody tr th:only-of-type {\n",
       "        vertical-align: middle;\n",
       "    }\n",
       "\n",
       "    .dataframe tbody tr th {\n",
       "        vertical-align: top;\n",
       "    }\n",
       "\n",
       "    .dataframe thead th {\n",
       "        text-align: right;\n",
       "    }\n",
       "</style>\n",
       "<table border=\"1\" class=\"dataframe\">\n",
       "  <thead>\n",
       "    <tr style=\"text-align: right;\">\n",
       "      <th></th>\n",
       "      <th>StoreKey</th>\n",
       "      <th>Country</th>\n",
       "      <th>State</th>\n",
       "      <th>Square Meters</th>\n",
       "      <th>Open Date</th>\n",
       "    </tr>\n",
       "  </thead>\n",
       "  <tbody>\n",
       "    <tr>\n",
       "      <th>0</th>\n",
       "      <td>1</td>\n",
       "      <td>australia</td>\n",
       "      <td>australian capital territory</td>\n",
       "      <td>595.0</td>\n",
       "      <td>2008-01-01</td>\n",
       "    </tr>\n",
       "    <tr>\n",
       "      <th>1</th>\n",
       "      <td>2</td>\n",
       "      <td>australia</td>\n",
       "      <td>northern territory</td>\n",
       "      <td>665.0</td>\n",
       "      <td>2008-01-12</td>\n",
       "    </tr>\n",
       "    <tr>\n",
       "      <th>2</th>\n",
       "      <td>3</td>\n",
       "      <td>australia</td>\n",
       "      <td>south australia</td>\n",
       "      <td>2000.0</td>\n",
       "      <td>2012-01-07</td>\n",
       "    </tr>\n",
       "    <tr>\n",
       "      <th>3</th>\n",
       "      <td>4</td>\n",
       "      <td>australia</td>\n",
       "      <td>tasmania</td>\n",
       "      <td>2000.0</td>\n",
       "      <td>2010-01-01</td>\n",
       "    </tr>\n",
       "    <tr>\n",
       "      <th>4</th>\n",
       "      <td>5</td>\n",
       "      <td>australia</td>\n",
       "      <td>victoria</td>\n",
       "      <td>2000.0</td>\n",
       "      <td>2015-12-09</td>\n",
       "    </tr>\n",
       "    <tr>\n",
       "      <th>...</th>\n",
       "      <td>...</td>\n",
       "      <td>...</td>\n",
       "      <td>...</td>\n",
       "      <td>...</td>\n",
       "      <td>...</td>\n",
       "    </tr>\n",
       "    <tr>\n",
       "      <th>62</th>\n",
       "      <td>63</td>\n",
       "      <td>united states</td>\n",
       "      <td>utah</td>\n",
       "      <td>2000.0</td>\n",
       "      <td>2008-03-06</td>\n",
       "    </tr>\n",
       "    <tr>\n",
       "      <th>63</th>\n",
       "      <td>64</td>\n",
       "      <td>united states</td>\n",
       "      <td>washington dc</td>\n",
       "      <td>1330.0</td>\n",
       "      <td>2010-01-01</td>\n",
       "    </tr>\n",
       "    <tr>\n",
       "      <th>64</th>\n",
       "      <td>65</td>\n",
       "      <td>united states</td>\n",
       "      <td>west virginia</td>\n",
       "      <td>1785.0</td>\n",
       "      <td>2012-01-01</td>\n",
       "    </tr>\n",
       "    <tr>\n",
       "      <th>65</th>\n",
       "      <td>66</td>\n",
       "      <td>united states</td>\n",
       "      <td>wyoming</td>\n",
       "      <td>840.0</td>\n",
       "      <td>2014-01-01</td>\n",
       "    </tr>\n",
       "    <tr>\n",
       "      <th>66</th>\n",
       "      <td>0</td>\n",
       "      <td>online</td>\n",
       "      <td>online</td>\n",
       "      <td>NaN</td>\n",
       "      <td>2010-01-01</td>\n",
       "    </tr>\n",
       "  </tbody>\n",
       "</table>\n",
       "<p>67 rows × 5 columns</p>\n",
       "</div>"
      ],
      "text/plain": [
       "    StoreKey        Country                         State  Square Meters  \\\n",
       "0          1      australia  australian capital territory          595.0   \n",
       "1          2      australia            northern territory          665.0   \n",
       "2          3      australia               south australia         2000.0   \n",
       "3          4      australia                      tasmania         2000.0   \n",
       "4          5      australia                      victoria         2000.0   \n",
       "..       ...            ...                           ...            ...   \n",
       "62        63  united states                          utah         2000.0   \n",
       "63        64  united states                 washington dc         1330.0   \n",
       "64        65  united states                 west virginia         1785.0   \n",
       "65        66  united states                       wyoming          840.0   \n",
       "66         0         online                        online            NaN   \n",
       "\n",
       "    Open Date  \n",
       "0  2008-01-01  \n",
       "1  2008-01-12  \n",
       "2  2012-01-07  \n",
       "3  2010-01-01  \n",
       "4  2015-12-09  \n",
       "..        ...  \n",
       "62 2008-03-06  \n",
       "63 2010-01-01  \n",
       "64 2012-01-01  \n",
       "65 2014-01-01  \n",
       "66 2010-01-01  \n",
       "\n",
       "[67 rows x 5 columns]"
      ]
     },
     "execution_count": 63,
     "metadata": {},
     "output_type": "execute_result"
    }
   ],
   "source": [
    "stores_df"
   ]
  },
  {
   "cell_type": "markdown",
   "metadata": {},
   "source": [
    "# exchange rates\n"
   ]
  },
  {
   "cell_type": "code",
   "execution_count": 66,
   "metadata": {},
   "outputs": [],
   "source": [
    "rates_df = pd.read_csv(r'C:\\Users\\THIRU\\OneDrive\\Desktop\\data_illuminate\\rates.csv')"
   ]
  },
  {
   "cell_type": "code",
   "execution_count": 67,
   "metadata": {},
   "outputs": [
    {
     "name": "stdout",
     "output_type": "stream",
     "text": [
      "<class 'pandas.core.frame.DataFrame'>\n",
      "RangeIndex: 11215 entries, 0 to 11214\n",
      "Data columns (total 3 columns):\n",
      " #   Column    Non-Null Count  Dtype  \n",
      "---  ------    --------------  -----  \n",
      " 0   Date      11215 non-null  object \n",
      " 1   Currency  11215 non-null  object \n",
      " 2   Exchange  11215 non-null  float64\n",
      "dtypes: float64(1), object(2)\n",
      "memory usage: 263.0+ KB\n"
     ]
    }
   ],
   "source": [
    "rates_df.info()"
   ]
  },
  {
   "cell_type": "markdown",
   "metadata": {},
   "source": [
    "Convert date column type from object to datetime"
   ]
  },
  {
   "cell_type": "code",
   "execution_count": 68,
   "metadata": {},
   "outputs": [],
   "source": [
    "rates_df['Date'] = pd.to_datetime(rates_df['Date'],format='%m/%d/%Y')"
   ]
  },
  {
   "cell_type": "code",
   "execution_count": 69,
   "metadata": {},
   "outputs": [
    {
     "data": {
      "text/plain": [
       "array(['USD', 'CAD', 'AUD', 'EUR', 'GBP'], dtype=object)"
      ]
     },
     "execution_count": 69,
     "metadata": {},
     "output_type": "execute_result"
    }
   ],
   "source": [
    "rates_df['Currency'].unique()"
   ]
  },
  {
   "cell_type": "markdown",
   "metadata": {},
   "source": [
    "remove any unwanted spaces and ensure all in uppercase"
   ]
  },
  {
   "cell_type": "code",
   "execution_count": 70,
   "metadata": {},
   "outputs": [],
   "source": [
    "rates_df['Currency'] = rates_df['Currency'].str.strip().str.upper()"
   ]
  },
  {
   "cell_type": "markdown",
   "metadata": {},
   "source": [
    "check for duplicate entries"
   ]
  },
  {
   "cell_type": "code",
   "execution_count": 71,
   "metadata": {},
   "outputs": [
    {
     "data": {
      "text/plain": [
       "np.int64(0)"
      ]
     },
     "execution_count": 71,
     "metadata": {},
     "output_type": "execute_result"
    }
   ],
   "source": [
    "rates_df.duplicated().sum()"
   ]
  },
  {
   "cell_type": "code",
   "execution_count": 73,
   "metadata": {},
   "outputs": [
    {
     "data": {
      "text/plain": [
       "Index(['Date', 'Currency', 'Exchange'], dtype='object')"
      ]
     },
     "execution_count": 73,
     "metadata": {},
     "output_type": "execute_result"
    }
   ],
   "source": [
    "rates_df.columns"
   ]
  },
  {
   "cell_type": "code",
   "execution_count": 74,
   "metadata": {},
   "outputs": [],
   "source": [
    "rates_df = rates_df.rename(columns={\n",
    "    'Date': 'date',\n",
    "    'Currency': 'currency',\n",
    "    'Exchange': 'exchange'\n",
    "    })"
   ]
  },
  {
   "cell_type": "code",
   "execution_count": 75,
   "metadata": {},
   "outputs": [],
   "source": [
    "rates_df.to_csv('cleaned_dataset/rates.csv',index=False)"
   ]
  },
  {
   "cell_type": "code",
   "execution_count": 76,
   "metadata": {},
   "outputs": [
    {
     "data": {
      "text/html": [
       "<div>\n",
       "<style scoped>\n",
       "    .dataframe tbody tr th:only-of-type {\n",
       "        vertical-align: middle;\n",
       "    }\n",
       "\n",
       "    .dataframe tbody tr th {\n",
       "        vertical-align: top;\n",
       "    }\n",
       "\n",
       "    .dataframe thead th {\n",
       "        text-align: right;\n",
       "    }\n",
       "</style>\n",
       "<table border=\"1\" class=\"dataframe\">\n",
       "  <thead>\n",
       "    <tr style=\"text-align: right;\">\n",
       "      <th></th>\n",
       "      <th>date</th>\n",
       "      <th>currency</th>\n",
       "      <th>exchange</th>\n",
       "    </tr>\n",
       "  </thead>\n",
       "  <tbody>\n",
       "    <tr>\n",
       "      <th>0</th>\n",
       "      <td>2015-01-01</td>\n",
       "      <td>USD</td>\n",
       "      <td>1.0000</td>\n",
       "    </tr>\n",
       "    <tr>\n",
       "      <th>1</th>\n",
       "      <td>2015-01-01</td>\n",
       "      <td>CAD</td>\n",
       "      <td>1.1583</td>\n",
       "    </tr>\n",
       "    <tr>\n",
       "      <th>2</th>\n",
       "      <td>2015-01-01</td>\n",
       "      <td>AUD</td>\n",
       "      <td>1.2214</td>\n",
       "    </tr>\n",
       "    <tr>\n",
       "      <th>3</th>\n",
       "      <td>2015-01-01</td>\n",
       "      <td>EUR</td>\n",
       "      <td>0.8237</td>\n",
       "    </tr>\n",
       "    <tr>\n",
       "      <th>4</th>\n",
       "      <td>2015-01-01</td>\n",
       "      <td>GBP</td>\n",
       "      <td>0.6415</td>\n",
       "    </tr>\n",
       "    <tr>\n",
       "      <th>...</th>\n",
       "      <td>...</td>\n",
       "      <td>...</td>\n",
       "      <td>...</td>\n",
       "    </tr>\n",
       "    <tr>\n",
       "      <th>11210</th>\n",
       "      <td>2021-02-20</td>\n",
       "      <td>USD</td>\n",
       "      <td>1.0000</td>\n",
       "    </tr>\n",
       "    <tr>\n",
       "      <th>11211</th>\n",
       "      <td>2021-02-20</td>\n",
       "      <td>CAD</td>\n",
       "      <td>1.2610</td>\n",
       "    </tr>\n",
       "    <tr>\n",
       "      <th>11212</th>\n",
       "      <td>2021-02-20</td>\n",
       "      <td>AUD</td>\n",
       "      <td>1.2723</td>\n",
       "    </tr>\n",
       "    <tr>\n",
       "      <th>11213</th>\n",
       "      <td>2021-02-20</td>\n",
       "      <td>EUR</td>\n",
       "      <td>0.8238</td>\n",
       "    </tr>\n",
       "    <tr>\n",
       "      <th>11214</th>\n",
       "      <td>2021-02-20</td>\n",
       "      <td>GBP</td>\n",
       "      <td>0.7126</td>\n",
       "    </tr>\n",
       "  </tbody>\n",
       "</table>\n",
       "<p>11215 rows × 3 columns</p>\n",
       "</div>"
      ],
      "text/plain": [
       "            date currency  exchange\n",
       "0     2015-01-01      USD    1.0000\n",
       "1     2015-01-01      CAD    1.1583\n",
       "2     2015-01-01      AUD    1.2214\n",
       "3     2015-01-01      EUR    0.8237\n",
       "4     2015-01-01      GBP    0.6415\n",
       "...          ...      ...       ...\n",
       "11210 2021-02-20      USD    1.0000\n",
       "11211 2021-02-20      CAD    1.2610\n",
       "11212 2021-02-20      AUD    1.2723\n",
       "11213 2021-02-20      EUR    0.8238\n",
       "11214 2021-02-20      GBP    0.7126\n",
       "\n",
       "[11215 rows x 3 columns]"
      ]
     },
     "execution_count": 76,
     "metadata": {},
     "output_type": "execute_result"
    }
   ],
   "source": [
    "rates_df "
   ]
  }
 ],
 "metadata": {
  "kernelspec": {
   "display_name": "Python 3",
   "language": "python",
   "name": "python3"
  },
  "language_info": {
   "codemirror_mode": {
    "name": "ipython",
    "version": 3
   },
   "file_extension": ".py",
   "mimetype": "text/x-python",
   "name": "python",
   "nbconvert_exporter": "python",
   "pygments_lexer": "ipython3",
   "version": "3.11.9"
  }
 },
 "nbformat": 4,
 "nbformat_minor": 2
}
